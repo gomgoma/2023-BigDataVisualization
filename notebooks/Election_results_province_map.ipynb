{
 "cells": [
  {
   "cell_type": "code",
   "execution_count": null,
   "id": "83a4fbd6-54ff-4188-92a2-c76b3e1bdb22",
   "metadata": {},
   "outputs": [],
   "source": [
    "import geopandas as gpd\n",
    "import pandas as pd\n",
    "\n",
    "# Load election data\n",
    "data_dir = \"../data/\"\n",
    "election_data = pd.read_csv(data_dir + \"G20192-Columnes-ME.csv\", sep=';')\n",
    "\n",
    "# Load GeoJSON file\n",
    "map_catalonia='province_map.geojson'\n",
    "geo_data = gpd.read_file(data_dir + map_catalonia)\n",
    "\n",
    "# Translate\n",
    "#election_data.rename(columns={'Nom Municipi': 'municipality'}, inplace=True)\n",
    "election_data"
   ]
  },
  {
   "cell_type": "code",
   "execution_count": null,
   "id": "9080a7f2-143c-4149-a5a3-8ae57028d50a",
   "metadata": {},
   "outputs": [],
   "source": [
    "geo_data.rename(columns={'nomprov': 'province'}, inplace=True)\n",
    "geo_data_sorted=geo_data.sort_values(by='province')"
   ]
  },
  {
   "cell_type": "code",
   "execution_count": null,
   "id": "1ddc719f-8f8c-44dc-af8b-70352e51c532",
   "metadata": {},
   "outputs": [],
   "source": [
    "election_data.rename(columns={'Nom Província': 'province'}, inplace=True)\n",
    "election_data_sorted=election_data.sort_values(by='province')"
   ]
  },
  {
   "cell_type": "code",
   "execution_count": null,
   "id": "28f3296a-584c-4618-a4bd-a3bd260b26f7",
   "metadata": {},
   "outputs": [],
   "source": [
    "election_data_sorted"
   ]
  },
  {
   "cell_type": "code",
   "execution_count": null,
   "id": "b5733a76-8c54-4034-a765-68697a3ad49b",
   "metadata": {},
   "outputs": [],
   "source": [
    "parties = election_data_sorted.columns[21:]"
   ]
  },
  {
   "cell_type": "code",
   "execution_count": null,
   "id": "465a72f1-ce2f-4898-8c4b-5b3e294d4ff7",
   "metadata": {},
   "outputs": [],
   "source": [
    "election_data_sorted.groupby(['province'])[parties].sum().reset_index()\n"
   ]
  },
  {
   "cell_type": "code",
   "execution_count": null,
   "id": "7c01dd32-d833-496b-8aff-bb003809b1e4",
   "metadata": {},
   "outputs": [],
   "source": [
    "votes_by_province_grouped = election_data_sorted.groupby(election_data_sorted[\"province\"]).sum()\n",
    "votes_by_province_grouped"
   ]
  },
  {
   "cell_type": "code",
   "execution_count": null,
   "id": "fdd85554-6f7d-45e3-9935-bd16a2795c8e",
   "metadata": {},
   "outputs": [],
   "source": [
    "winner_by_province=votes_by_province.idxmax(axis=1)\n",
    "list_winners=list(winner_by_province)\n",
    "votes_by_province['winner']=list_winners\n",
    "votes_by_province\n",
    "votes_by_province.sort_values(by='province')"
   ]
  },
  {
   "cell_type": "code",
   "execution_count": null,
   "id": "25aac5bb-84b1-41fe-a130-31423d622868",
   "metadata": {},
   "outputs": [],
   "source": [
    "merged_data = geo_data_sorted.merge(votes_by_province, on='province')\n",
    "merged_data"
   ]
  },
  {
   "cell_type": "code",
   "execution_count": null,
   "id": "a5b5d1d6-5d17-43c6-ac4c-09fcaef6ce06",
   "metadata": {},
   "outputs": [],
   "source": [
    "import plotly.express as px\n",
    "\n",
    "fig = px.choropleth_mapbox(\n",
    "    merged_data,\n",
    "    geojson=merged_data.geometry,\n",
    "    locations=merged_data.index,\n",
    "    color='winner',  # Change to the column you want to visualize\n",
    "    hover_name='province',\n",
    "    mapbox_style=\"carto-positron\",\n",
    "    center={\"lat\": 41.8781, \"lon\": 1.7834},  # Center of Catalonia\n",
    "    zoom=7\n",
    ")\n",
    "\n",
    "fig.update_geos(fitbounds=\"locations\", visible=False)\n",
    "\n",
    "fig.show()"
   ]
  }
 ],
 "metadata": {
  "kernelspec": {
   "display_name": "Python 3 (ipykernel)",
   "language": "python",
   "name": "python3"
  },
  "language_info": {
   "codemirror_mode": {
    "name": "ipython",
    "version": 3
   },
   "file_extension": ".py",
   "mimetype": "text/x-python",
   "name": "python",
   "nbconvert_exporter": "python",
   "pygments_lexer": "ipython3",
   "version": "3.8.10"
  }
 },
 "nbformat": 4,
 "nbformat_minor": 5
}
