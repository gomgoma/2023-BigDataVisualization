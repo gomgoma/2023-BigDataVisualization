{
 "cells": [
  {
   "cell_type": "code",
   "execution_count": null,
   "id": "c5f7d90b-2e02-4b13-aa8e-1b1804699d17",
   "metadata": {},
   "outputs": [],
   "source": [
    "import geopandas as gpd\n",
    "import pandas as pd"
   ]
  },
  {
   "cell_type": "code",
   "execution_count": null,
   "id": "229a244f-02d9-46fd-a11f-07655b4146f4",
   "metadata": {},
   "outputs": [],
   "source": [
    "# Load election data\n",
    "data_dir = \"../data/\"\n",
    "election_data = pd.read_csv(data_dir + \"G20192-Columnes-ME-EN.csv\", sep=';')"
   ]
  },
  {
   "cell_type": "code",
   "execution_count": null,
   "id": "c5f2ebc4-a1aa-4a06-9035-bcf44b8de17d",
   "metadata": {},
   "outputs": [],
   "source": [
    "# Load GeoJSON file\n",
    "map_catalonia='county_map.geojson'\n",
    "geo_data = gpd.read_file(data_dir + map_catalonia)\n",
    "geo_data"
   ]
  },
  {
   "cell_type": "code",
   "execution_count": null,
   "id": "3a84de5a-d194-42ec-927e-8a43757baad1",
   "metadata": {},
   "outputs": [],
   "source": [
    "election_data"
   ]
  },
  {
   "cell_type": "code",
   "execution_count": null,
   "id": "3b4718ec-3959-4723-8f2b-5e22ecc514da",
   "metadata": {},
   "outputs": [],
   "source": [
    "geo_data.rename(columns={'nomcomar': 'County_name'}, inplace=True)\n",
    "geo_data_sorted=geo_data.sort_values(by='County_name')"
   ]
  },
  {
   "cell_type": "code",
   "execution_count": null,
   "id": "e144e3e0-a9c7-4fab-9df8-60fe7ea8aa46",
   "metadata": {},
   "outputs": [],
   "source": [
    "election_data"
   ]
  },
  {
   "cell_type": "code",
   "execution_count": null,
   "id": "1c2ce36e-2de8-4cbd-9a6b-6527d09de12d",
   "metadata": {},
   "outputs": [],
   "source": [
    "participation_by_county = election_data.iloc[:, 11:21].groupby(by=election_data[\"County_name\"]).sum()\n",
    "participation_by_county.reset_index()\n",
    "participation_by_county"
   ]
  },
  {
   "cell_type": "code",
   "execution_count": null,
   "id": "f4afb1f2-4909-4346-adba-56c008ce3227",
   "metadata": {},
   "outputs": [],
   "source": [
    "participation_by_county['Final part/Census'] = participation_by_county['Part_20:00'] / participation_by_county['Electoral_census']\n",
    "participation_by_county"
   ]
  },
  {
   "cell_type": "code",
   "execution_count": null,
   "id": "5c7d46fa-0acf-45e7-bb64-75719a9a8da6",
   "metadata": {},
   "outputs": [],
   "source": [
    "merged_data = geo_data_sorted.merge(participation_by_county, on='County_name')\n",
    "merged_data"
   ]
  },
  {
   "cell_type": "code",
   "execution_count": null,
   "id": "6114e1bd-9548-4d4a-9177-2d7b76a1121b",
   "metadata": {},
   "outputs": [],
   "source": [
    "import plotly.express as px\n",
    "\n",
    "fig = px.choropleth_mapbox(\n",
    "    merged_data,\n",
    "    geojson=merged_data.geometry,\n",
    "    locations=merged_data.index,\n",
    "    color='Final part/Census',  # Change to the column you want to visualize\n",
    "    hover_name='County_name',\n",
    "    mapbox_style=\"carto-positron\",\n",
    "    center={\"lat\": 41.8781, \"lon\": 1.7834},  # Center of Catalonia\n",
    "    zoom=7\n",
    ")\n",
    "\n",
    "fig.update_geos(fitbounds=\"locations\", visible=False)\n",
    "fig.update_layout(height=600, width=800)\n",
    "fig.show()"
   ]
  },
  {
   "cell_type": "code",
   "execution_count": null,
   "id": "a5603e4c-3b91-4009-819f-a3bbf1624ba5",
   "metadata": {},
   "outputs": [],
   "source": []
  }
 ],
 "metadata": {
  "kernelspec": {
   "display_name": "Python 3 (ipykernel)",
   "language": "python",
   "name": "python3"
  },
  "language_info": {
   "codemirror_mode": {
    "name": "ipython",
    "version": 3
   },
   "file_extension": ".py",
   "mimetype": "text/x-python",
   "name": "python",
   "nbconvert_exporter": "python",
   "pygments_lexer": "ipython3",
   "version": "3.8.10"
  }
 },
 "nbformat": 4,
 "nbformat_minor": 5
}
