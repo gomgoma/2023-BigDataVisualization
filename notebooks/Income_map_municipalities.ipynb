{
 "cells": [
  {
   "cell_type": "code",
   "execution_count": null,
   "id": "6244b2c0-8d85-4e12-8c6c-7aa193ffc1b5",
   "metadata": {},
   "outputs": [],
   "source": [
    "import geopandas as gpd\n",
    "import pandas as pd\n",
    "import plotly.express as px\n",
    "\n",
    "# Load election data\n",
    "data_dir = \"../data/\"\n",
    "income = pd.read_csv(data_dir + \"income_by_municipality.csv\", sep=',')\n",
    "income"
   ]
  },
  {
   "cell_type": "code",
   "execution_count": null,
   "id": "7ba0986d-9e91-4dfa-be43-434607780e2b",
   "metadata": {},
   "outputs": [],
   "source": [
    "# Convert the 'Total' column to numeric using .loc\n",
    "income.loc[:, 'Total'] = income['Total'].apply(pd.to_numeric, errors='coerce')\n",
    "income"
   ]
  },
  {
   "cell_type": "code",
   "execution_count": null,
   "id": "74c121f1-1543-475f-8e3f-93223d540ffe",
   "metadata": {},
   "outputs": [],
   "source": []
  },
  {
   "cell_type": "code",
   "execution_count": null,
   "id": "bb4a676e-b5db-4a1f-9e00-ffb2c19cd215",
   "metadata": {},
   "outputs": [],
   "source": [
    "income_municipality = income.groupby('Municipalities')['Total'].mean().reset_index()\n",
    "income_municipality"
   ]
  },
  {
   "cell_type": "code",
   "execution_count": null,
   "id": "b0d05806-0451-4d73-8a28-f39e60a6168a",
   "metadata": {},
   "outputs": [],
   "source": [
    "# Load GeoJSON file\n",
    "map_catalonia='municipality_map.geojson'\n",
    "geo_data = gpd.read_file(data_dir + map_catalonia)"
   ]
  },
  {
   "cell_type": "code",
   "execution_count": null,
   "id": "3dc26d0b-a2df-4640-8fc8-a8732041e079",
   "metadata": {},
   "outputs": [],
   "source": [
    "# Translate column used to merge datasets and sort dataset based on this\n",
    "geo_data.rename(columns={'nom_muni': 'Municipalities'}, inplace=True)\n",
    "geo_data=geo_data.sort_values(by='Municipalities')"
   ]
  },
  {
   "cell_type": "code",
   "execution_count": null,
   "id": "067ddd8e-84ac-42e6-a659-7a1a5527108e",
   "metadata": {},
   "outputs": [],
   "source": [
    "# Merge municipalities map and income by municipality\n",
    "merged_data = geo_data.merge(income_municipality, on='Municipalities')\n",
    "merged_data = merged_data.rename(columns={'Total': 'Average income per household (€)'})\n",
    "merged_data"
   ]
  },
  {
   "cell_type": "code",
   "execution_count": null,
   "id": "9d9a51ff-42c1-464b-8883-570bf0d9aa8c",
   "metadata": {},
   "outputs": [],
   "source": [
    "# Plot the average income on a map of Catalonian municipalities\n",
    "\n",
    "fig = px.choropleth_mapbox(\n",
    "    merged_data,\n",
    "    geojson=merged_data.geometry,\n",
    "    locations=merged_data.index,\n",
    "    color='Average income per household (€)',  # Change to the column you want to visualize\n",
    "    hover_name='Municipalities',\n",
    "    mapbox_style=\"carto-positron\",\n",
    "    center={\"lat\": 41.8781, \"lon\": 1.7834},  # Center of Catalonia\n",
    "    zoom=7,\n",
    "    title='Average income by municipality'\n",
    ")\n",
    "fig.update_layout(height=600, width=800)\n",
    "fig.update_geos(fitbounds=\"locations\", visible=False)\n",
    "\n",
    "fig.show()"
   ]
  },
  {
   "cell_type": "code",
   "execution_count": null,
   "id": "b4cec712-b96b-44d7-941f-ba9ec26b6e26",
   "metadata": {},
   "outputs": [],
   "source": []
  }
 ],
 "metadata": {
  "kernelspec": {
   "display_name": "Python 3 (ipykernel)",
   "language": "python",
   "name": "python3"
  },
  "language_info": {
   "codemirror_mode": {
    "name": "ipython",
    "version": 3
   },
   "file_extension": ".py",
   "mimetype": "text/x-python",
   "name": "python",
   "nbconvert_exporter": "python",
   "pygments_lexer": "ipython3",
   "version": "3.8.10"
  }
 },
 "nbformat": 4,
 "nbformat_minor": 5
}
