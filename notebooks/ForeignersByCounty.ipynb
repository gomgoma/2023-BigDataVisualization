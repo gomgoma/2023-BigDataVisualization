{
 "cells": [
  {
   "cell_type": "code",
   "execution_count": null,
   "id": "83a4fbd6-54ff-4188-92a2-c76b3e1bdb22",
   "metadata": {},
   "outputs": [],
   "source": [
    "import geopandas as gpd\n",
    "import pandas as pd\n",
    "\n",
    "# Load election data\n",
    "data_dir = \"../data/\"\n",
    "election_data = pd.read_csv(data_dir + \"G20192-Columnes-ME-EN.csv\", sep=';')\n",
    "# Load data about foreigners\n",
    "foreign_data = pd.read_csv(data_dir + \"ForeignComarcas.csv\")"
   ]
  },
  {
   "cell_type": "code",
   "execution_count": null,
   "id": "1bc7b369-d2d1-4229-9fdb-02bf360d8be6",
   "metadata": {},
   "outputs": [],
   "source": [
    "election_data"
   ]
  },
  {
   "cell_type": "code",
   "execution_count": null,
   "id": "a615b4cf-76a5-4b7b-b71e-73d4dbfd8d8b",
   "metadata": {},
   "outputs": [],
   "source": [
    "foreign_data"
   ]
  },
  {
   "cell_type": "code",
   "execution_count": null,
   "id": "d7c27d05-2952-421d-97d3-56afbb0b1f04",
   "metadata": {},
   "outputs": [],
   "source": [
    "data_type = foreign_data['Total percentage of foreigners in this area'].dtype\n",
    "print(f\"The data type of 'column_name' is: {data_type}\")"
   ]
  },
  {
   "cell_type": "code",
   "execution_count": null,
   "id": "b8522402-6ac9-4125-adce-4c3edb2cf72d",
   "metadata": {},
   "outputs": [],
   "source": [
    "data_type = foreign_data['Total percentage of foreigners in this area'].dtype\n",
    "print(f\"The data type of 'column_name' is: {data_type}\")"
   ]
  },
  {
   "cell_type": "code",
   "execution_count": null,
   "id": "da0c0a09-cc4d-4810-8320-aa7139c09a3e",
   "metadata": {},
   "outputs": [],
   "source": [
    "foreign_data['Total percentage of foreigners in this area'] = foreign_data['Total percentage of foreigners in this area'].astype(float, errors='ignore')\n",
    "#data_type = foreign_data['Total percentage of foreigners in this area'].dtype\n",
    "#assigning manually because no time for debugging why the float conversion is incorrect\n",
    "#foreign_data.at[0, \"Total percentage of foreigners in this area\"] = 51.42\n",
    "#foreign_data.at[1, \"Total percentage of foreigners in this area\"] = 25.37\n",
    "#foreign_data.at[2, \"Total percentage of foreigners in this area\"] = 23.72\n",
    "#foreign_data.at[3, \"Total percentage of foreigners in this area\"] = 14.59\n",
    "#foreign_data.at[4, \"Total percentage of foreigners in this area\"] = 14.61\n",
    "#foreign_data.at[5, \"Total percentage of foreigners in this area\"] = 20.72\n",
    "#foreign_data.at[6, \"Total percentage of foreigners in this area\"] = 16.90\n",
    "#foreign_data.at[7, \"Total percentage of foreigners in this area\"] = 19.88\n",
    "#foreign_data.at[8, \"Total percentage of foreigners in this area\"] = 15.06\n",
    "#foreign_data.at[9, \"Total percentage of foreigners in this area\"] = 21.04\n",
    "#foreign_data.at[10, \"Total percentage of foreigners in this area\"] = 21.97\n",
    "\n",
    "\n",
    "data_type = foreign_data['Total percentage of foreigners in this area'].dtype\n",
    "print(f\"The data type of 'column_name' is: {data_type}\")"
   ]
  },
  {
   "cell_type": "code",
   "execution_count": null,
   "id": "1c5f113f-d61d-4722-a185-1254214525bf",
   "metadata": {},
   "outputs": [],
   "source": [
    "def toInt(x):\n",
    "    try:\n",
    "        x = int(float(x)) # from string to float to int\n",
    "    except:\n",
    "        x = np.NaN\n",
    "    return x"
   ]
  },
  {
   "cell_type": "code",
   "execution_count": null,
   "id": "d8ba83b4-0d0c-45ef-a5cf-50b6ce77c05b",
   "metadata": {},
   "outputs": [],
   "source": [
    "foreign_data['Total number of foreigners'] = foreign_data['Total number of foreigners'].apply(toInt)\n",
    "foreign_data['Population'] = foreign_data['Population'].apply(toInt)\n",
    "\n",
    "data_type = foreign_data['Population'].dtype\n",
    "print(f\"The data type of 'column_name' is: {data_type}\")"
   ]
  },
  {
   "cell_type": "code",
   "execution_count": null,
   "id": "62eaa6b9-83f2-4163-91c0-0843c19211d5",
   "metadata": {},
   "outputs": [],
   "source": [
    "foreign_data['Percentage'] = foreign_data['Total number of foreigners'] / foreign_data['Population']\n",
    "foreign_data"
   ]
  },
  {
   "cell_type": "code",
   "execution_count": null,
   "id": "cc6b0311-21e2-41f6-b0fa-207cf4233547",
   "metadata": {},
   "outputs": [],
   "source": [
    "foreign_data"
   ]
  },
  {
   "cell_type": "code",
   "execution_count": null,
   "id": "ec34a52f-bb1c-4f4b-980d-6ae3958dfc98",
   "metadata": {},
   "outputs": [],
   "source": [
    "# Load GeoJSON file\n",
    "map='county_map.geojson'\n",
    "geo_data = gpd.read_file(data_dir + map)\n",
    "geo_data"
   ]
  },
  {
   "cell_type": "code",
   "execution_count": null,
   "id": "e220bfa8-dd16-4016-b748-7bc9697a1798",
   "metadata": {},
   "outputs": [],
   "source": [
    "geo_data.rename(columns={'nomcomar': 'County_name'}, inplace=True)\n",
    "geo_data_sorted=geo_data.sort_values(by='County_name')"
   ]
  },
  {
   "cell_type": "code",
   "execution_count": null,
   "id": "42c44c04-7e2f-4132-b079-1952ecddc7ce",
   "metadata": {},
   "outputs": [],
   "source": [
    "#participation_by_county = election_data.iloc[:, 11:21].groupby(by=election_data[\"County_name\"]).sum()\n",
    "#participation_by_county.reset_index()\n",
    "#participation_by_county"
   ]
  },
  {
   "cell_type": "code",
   "execution_count": null,
   "id": "e65c1a56-1ec3-4884-b0b0-eefdcf48949e",
   "metadata": {},
   "outputs": [],
   "source": [
    "merged_data = geo_data_sorted.merge(foreign_data, on='County_name')\n",
    "merged_data"
   ]
  },
  {
   "cell_type": "code",
   "execution_count": null,
   "id": "395ca22a-bc25-4a11-b874-d1bb703aa1be",
   "metadata": {},
   "outputs": [],
   "source": [
    "import plotly.express as px\n",
    "\n",
    "fig = px.choropleth_mapbox(\n",
    "    merged_data,\n",
    "    geojson=merged_data.geometry,\n",
    "    locations=merged_data.index,\n",
    "    color='Percentage',  # Change to the column you want to visualize\n",
    "    hover_name='County_name',\n",
    "    mapbox_style=\"carto-positron\",\n",
    "    center={\"lat\": 41.8781, \"lon\": 1.7834},  # Center of Catalonia\n",
    "    zoom=7,\n",
    "    title='Percentage of non-spanish residents in the area',\n",
    "    color_continuous_scale=\"sunset\"\n",
    ")\n",
    "\n",
    "fig.update_geos(fitbounds=\"locations\", visible=False)\n",
    "fig.update_layout(height=600, width=800)"
   ]
  },
  {
   "cell_type": "code",
   "execution_count": null,
   "id": "1ddc719f-8f8c-44dc-af8b-70352e51c532",
   "metadata": {},
   "outputs": [],
   "source": [
    "#election_data_sorted=election_data.sort_values(by='Province_name')"
   ]
  },
  {
   "cell_type": "code",
   "execution_count": null,
   "id": "28f3296a-584c-4618-a4bd-a3bd260b26f7",
   "metadata": {},
   "outputs": [],
   "source": [
    "#election_data_sorted"
   ]
  },
  {
   "cell_type": "code",
   "execution_count": null,
   "id": "b5733a76-8c54-4034-a765-68697a3ad49b",
   "metadata": {},
   "outputs": [],
   "source": [
    "#parties = election_data_sorted.columns[21:]\n",
    "#parties"
   ]
  },
  {
   "cell_type": "code",
   "execution_count": null,
   "id": "465a72f1-ce2f-4898-8c4b-5b3e294d4ff7",
   "metadata": {},
   "outputs": [],
   "source": [
    "#election_data_sorted.groupby(['Province_name'])[parties].sum().reset_index()\n"
   ]
  },
  {
   "cell_type": "code",
   "execution_count": null,
   "id": "7c01dd32-d833-496b-8aff-bb003809b1e4",
   "metadata": {},
   "outputs": [],
   "source": [
    "#votes_by_province_grouped = election_data_sorted.groupby(election_data_sorted[\"Province_name\"]).sum()\n",
    "#votes_by_province_grouped"
   ]
  },
  {
   "cell_type": "code",
   "execution_count": null,
   "id": "fdd85554-6f7d-45e3-9935-bd16a2795c8e",
   "metadata": {},
   "outputs": [],
   "source": [
    "#winner_by_province=votes_by_province.idxmax(axis=1)\n",
    "#list_winners=list(winner_by_province)\n",
    "#votes_by_province['winner']=list_winners\n",
    "#votes_by_province\n",
    "#votes_by_province.sort_values(by='province')"
   ]
  },
  {
   "cell_type": "code",
   "execution_count": null,
   "id": "25aac5bb-84b1-41fe-a130-31423d622868",
   "metadata": {},
   "outputs": [],
   "source": [
    "#merged_data = geo_data_sorted.merge(votes_by_province, on='province')\n",
    "#merged_data"
   ]
  },
  {
   "cell_type": "code",
   "execution_count": null,
   "id": "a5b5d1d6-5d17-43c6-ac4c-09fcaef6ce06",
   "metadata": {},
   "outputs": [],
   "source": [
    "#import plotly.express as px\n",
    "\n",
    "#fig = px.choropleth_mapbox(\n",
    "#    merged_data,\n",
    "#    geojson=merged_data.geometry,\n",
    "#    locations=merged_data.index,\n",
    "#    color='winner',  # Change to the column you want to visualize\n",
    "#    hover_name='province',\n",
    "#    mapbox_style=\"carto-positron\",\n",
    "#    center={\"lat\": 41.8781, \"lon\": 1.7834},  # Center of Catalonia\n",
    "#    zoom=7\n",
    "#)\n",
    "\n",
    "#fig.update_geos(fitbounds=\"locations\", visible=False)\n",
    "\n",
    "#fig.show()"
   ]
  }
 ],
 "metadata": {
  "kernelspec": {
   "display_name": "Python 3 (ipykernel)",
   "language": "python",
   "name": "python3"
  },
  "language_info": {
   "codemirror_mode": {
    "name": "ipython",
    "version": 3
   },
   "file_extension": ".py",
   "mimetype": "text/x-python",
   "name": "python",
   "nbconvert_exporter": "python",
   "pygments_lexer": "ipython3",
   "version": "3.11.5"
  }
 },
 "nbformat": 4,
 "nbformat_minor": 5
}
