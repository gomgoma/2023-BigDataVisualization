{
 "cells": [
  {
   "cell_type": "code",
   "execution_count": null,
   "id": "7dcc53cf-8af1-48f6-9be6-444219e2656e",
   "metadata": {},
   "outputs": [],
   "source": [
    "import numpy as np\n",
    "import pandas as pd"
   ]
  },
  {
   "cell_type": "code",
   "execution_count": null,
   "id": "26258ae2-0944-4638-a3c6-f9bdf05efa9a",
   "metadata": {},
   "outputs": [],
   "source": [
    "# data directory\n",
    "data_dir = \"../data/\""
   ]
  },
  {
   "cell_type": "code",
   "execution_count": null,
   "id": "63bc0186-552c-4d5f-91d3-2b38a865ebed",
   "metadata": {},
   "outputs": [],
   "source": [
    "votes = pd.read_csv(data_dir + \"G20192-Vots-ME.csv\", sep=';')\n",
    "# show loaded table:\n",
    "votes"
   ]
  },
  {
   "cell_type": "code",
   "execution_count": null,
   "id": "5d25c464-5427-4d06-ba0b-b5f29a86803c",
   "metadata": {},
   "outputs": [],
   "source": [
    "columnes = pd.read_csv(data_dir + \"G20192-Columnes-ME.csv\", sep=';')\n",
    "# show loaded table:\n",
    "columnes"
   ]
  },
  {
   "cell_type": "code",
   "execution_count": null,
   "id": "22e95878-26ae-4d30-a584-dead83360be0",
   "metadata": {},
   "outputs": [],
   "source": [
    "print(columnes.columns.values)\n",
    "print(participation.columns.values)\n",
    "print(votes.columns.values)\n"
   ]
  },
  {
   "cell_type": "code",
   "execution_count": null,
   "id": "d8459bbc-a04e-428f-94f3-599f27992390",
   "metadata": {},
   "outputs": [],
   "source": [
    "participation = pd.read_csv(data_dir + \"G20192-Participació-ME.csv\", sep=';')\n",
    "# show loaded table:\n",
    "participation"
   ]
  },
  {
   "cell_type": "code",
   "execution_count": null,
   "id": "59b7cc0e-895c-4cc2-8ac0-97c7b49622eb",
   "metadata": {},
   "outputs": [],
   "source": [
    "participation[participation[\"Nom Província\"]==\"Barcelona\"]"
   ]
  },
  {
   "cell_type": "code",
   "execution_count": null,
   "id": "51ed7639-7c7d-4b18-8fc4-da596c13323a",
   "metadata": {},
   "outputs": [],
   "source": [
    "participation[[\"Nom Província\", \"Participació 20:00\"]].groupby('Nom Província').sum()\n",
    "participation[\"Nom Província\"].value_counts().plot(kind = 'pie')"
   ]
  },
  {
   "cell_type": "code",
   "execution_count": null,
   "id": "ae353cff-0b37-44c7-92e3-08b6e252fd67",
   "metadata": {},
   "outputs": [],
   "source": [
    "columnes[[\"Nom Província\", \"VOX Vots\"]].groupby('Nom Província').sum().plot(kind='pie', subplots=True)"
   ]
  },
  {
   "cell_type": "code",
   "execution_count": null,
   "id": "135096ab-efbc-4e88-a2a3-73dea93ed3ef",
   "metadata": {},
   "outputs": [],
   "source": [
    "columnes[[\"Nom Província\", \"VOX Vots\"]].groupby('Nom Província').sum().plot(kind='pie', subplots=True)"
   ]
  },
  {
   "cell_type": "code",
   "execution_count": null,
   "id": "0814e8a2-f41b-49ad-a32a-aa110e5b1f2d",
   "metadata": {},
   "outputs": [],
   "source": []
  },
  {
   "cell_type": "code",
   "execution_count": null,
   "id": "9bfe379f-e05b-447c-a19a-74273d04e846",
   "metadata": {},
   "outputs": [],
   "source": [
    "from ydata_profiling import ProfileReport"
   ]
  },
  {
   "cell_type": "code",
   "execution_count": null,
   "id": "85394731-5dd2-4477-8477-054f3d458f96",
   "metadata": {},
   "outputs": [],
   "source": [
    "profile_columnes = ProfileReport(columnes, title=\"Profiling Report\")\n",
    "profile_columnes"
   ]
  },
  {
   "cell_type": "code",
   "execution_count": null,
   "id": "a1462813-73a8-4cda-bf30-9a46abb6a5fb",
   "metadata": {},
   "outputs": [],
   "source": [
    "# Import Catalonia's map with municipality precision\n",
    "\n",
    "import plotly\n",
    "import plotly.graph_objects as go\n",
    "import plotly.express as px\n",
    "import plotly.io as pio\n",
    "import geopandas as gpd\n",
    "\n",
    "pio.renderers.default='notebook'\n",
    "map_catalonia='Límits administratius municipals de Catalunya.geojson'\n",
    "map_catalonia_geojson  = gpd.read_file(data_dir + map_catalunya)"
   ]
  },
  {
   "cell_type": "code",
   "execution_count": null,
   "id": "bfc6561d-5d4f-44ae-b5ed-70fb2d6ac3c3",
   "metadata": {},
   "outputs": [],
   "source": [
    "map_catalonia_geojson"
   ]
  },
  {
   "cell_type": "code",
   "execution_count": null,
   "id": "c9c6d55e-12bb-4360-89af-e876e9a7e13e",
   "metadata": {},
   "outputs": [],
   "source": [
    "# Group data by municipalities\n",
    "columnes[[\"Nom Municipi\", \"VOX Vots\"]].groupby('Nom Municipi').sum()\n",
    "votes_by_municipality = columnes.iloc[:, 21:].groupby(by=columnes[\"Nom Municipi\"]).sum()\n",
    "votes_by_municipality"
   ]
  },
  {
   "cell_type": "code",
   "execution_count": null,
   "id": "b94e9eba-9f58-4a44-8e68-446230525891",
   "metadata": {},
   "outputs": [],
   "source": [
    "votes_by_municipality.iloc[:]\n"
   ]
  },
  {
   "cell_type": "code",
   "execution_count": null,
   "id": "14e349a5-b985-410e-9622-e3a16604e5dc",
   "metadata": {},
   "outputs": [],
   "source": [
    "winner_by_municipality=votes_by_municipality.idxmax(axis=1)\n",
    "winner_by_municipality.reset_index()"
   ]
  },
  {
   "cell_type": "code",
   "execution_count": null,
   "id": "ff2d20af-522d-4653-938f-12736bc09dee",
   "metadata": {},
   "outputs": [],
   "source": []
  },
  {
   "cell_type": "code",
   "execution_count": null,
   "id": "d007b3d4-6dd6-4971-8552-0c85754c206c",
   "metadata": {},
   "outputs": [],
   "source": [
    "column_names=votes_by_municipality.columns\n",
    "column_names=list(column_names)\n",
    "column_names"
   ]
  },
  {
   "cell_type": "code",
   "execution_count": null,
   "id": "b54fcc03-12c2-4603-9dc7-5381036e6d3f",
   "metadata": {},
   "outputs": [],
   "source": [
    "row_names=list(votes_by_municipality.index.values)\n",
    "row_names"
   ]
  },
  {
   "cell_type": "code",
   "execution_count": null,
   "id": "d9d419a6-82a2-473b-b94d-ac7dc533c89b",
   "metadata": {},
   "outputs": [],
   "source": [
    "fig = px.choropleth_mapbox(votes_by_municipality, geojson=map_catalunya_geojson, color=winner_by_municipality,\n",
    "                           locations=\"ERC-SOBIRANISTES Vots\", featureidkey=\"\",\n",
    "                           center={\"lat\": 41.3, \"lon\": 2.0},\n",
    "                           mapbox_style=\"carto-positron\", zoom=9)\n",
    "fig.update_layout(margin={\"r\":0,\"t\":0,\"l\":0,\"b\":0})\n",
    "fig.show('iframe')"
   ]
  },
  {
   "cell_type": "code",
   "execution_count": null,
   "id": "221fcaf6-41ef-4f79-8807-a907c7466ab9",
   "metadata": {},
   "outputs": [],
   "source": []
  },
  {
   "cell_type": "code",
   "execution_count": null,
   "id": "b900b025-0ed3-414a-a915-2aa9c457d788",
   "metadata": {},
   "outputs": [],
   "source": []
  }
 ],
 "metadata": {
  "kernelspec": {
   "display_name": "Python 3 (ipykernel)",
   "language": "python",
   "name": "python3"
  },
  "language_info": {
   "codemirror_mode": {
    "name": "ipython",
    "version": 3
   },
   "file_extension": ".py",
   "mimetype": "text/x-python",
   "name": "python",
   "nbconvert_exporter": "python",
   "pygments_lexer": "ipython3",
   "version": "3.8.10"
  }
 },
 "nbformat": 4,
 "nbformat_minor": 5
}
