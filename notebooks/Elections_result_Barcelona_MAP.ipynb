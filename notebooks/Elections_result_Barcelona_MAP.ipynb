{
 "cells": [
  {
   "cell_type": "code",
   "execution_count": null,
   "id": "07679d17-8548-4245-a54a-f18058dfe953",
   "metadata": {},
   "outputs": [],
   "source": [
    "import geopandas as gpd\n",
    "import pandas as pd\n",
    "\n",
    "# Load election data\n",
    "data_dir = \"../data/\"\n",
    "election_data = pd.read_csv(data_dir + \"G20192-Columnes-ME-EN.csv\", sep=';')\n",
    "election_data"
   ]
  },
  {
   "cell_type": "code",
   "execution_count": null,
   "id": "21594cf4-913a-4450-b4d9-2443c0e4e294",
   "metadata": {},
   "outputs": [],
   "source": [
    "barcelona_data = election_data[election_data['Municipality_name'] == 'Barcelona']\n",
    "district_data = barcelona_data.iloc[:, 21:].groupby(by=barcelona_data[\"District\"]).sum()\n",
    "district_data.reset_index()"
   ]
  },
  {
   "cell_type": "code",
   "execution_count": null,
   "id": "c7e668dd-479d-45e1-84b8-af7dfbe16a7a",
   "metadata": {},
   "outputs": [],
   "source": [
    "winner_by_district=district_data.idxmax(axis=1)\n",
    "winner_by_district.reset_index()\n",
    "list_winners=list(winner_by_district)\n",
    "district_data['winner']=list_winners\n",
    "district_data"
   ]
  },
  {
   "cell_type": "code",
   "execution_count": null,
   "id": "570516a5-1019-4212-8bbe-67991a21e520",
   "metadata": {},
   "outputs": [],
   "source": [
    "# Load all importance packages\n",
    "import geopandas\n",
    "import numpy as np\n",
    "import pandas as pd\n",
    "\n",
    "import seaborn as sns\n",
    "import matplotlib.pyplot as plt\n",
    "\n",
    "from subprocess import check_output\n",
    "\n",
    "bcn = geopandas.read_file(data_dir + \"districts_BCN.geojson\")\n",
    "bcn.head()\n",
    "bcn = bcn[['NOM','geometry']]\n",
    "bcn.plot(color='#6699cc',figsize=(15,8))\n",
    "bcn.rename(columns={'DISTRICTE': 'District'}, inplace=True)\n",
    "bcn_gpd = gpd.GeoDataFrame(bcn)\n",
    "#bcn_gpd.reset_index\n",
    "bcn_gpd['District']=[1,2,3,4,5,6,7,8,9,10]\n",
    "bcn_gpd"
   ]
  },
  {
   "cell_type": "code",
   "execution_count": null,
   "id": "dc6d6c58-6495-43ba-ad93-02ccd01978d6",
   "metadata": {},
   "outputs": [],
   "source": [
    "merged_data = bcn_gpd.merge(district_data, on='District')\n",
    "merged_data"
   ]
  },
  {
   "cell_type": "code",
   "execution_count": null,
   "id": "a9056019-7322-40ea-b0f1-fef74dcfd776",
   "metadata": {},
   "outputs": [],
   "source": [
    "import plotly.express as px\n",
    "\n",
    "fig = px.choropleth_mapbox(\n",
    "    merged_data,\n",
    "    geojson=merged_data.geometry,\n",
    "    locations=merged_data.index,\n",
    "    color='winner',  # Change to the column you want to visualize\n",
    "    hover_name='District',\n",
    "    mapbox_style=\"carto-positron\",\n",
    "    center={\"lat\": 41.8781, \"lon\": 1.7834},  # Center of Catalonia\n",
    "    zoom=14\n",
    ")\n",
    "\n",
    "fig.update_geos(fitbounds=\"locations\", visible=False)\n",
    "fig.show()"
   ]
  },
  {
   "cell_type": "code",
   "execution_count": null,
   "id": "e5b44ca5-f78b-40c3-b3f9-74db31ccf9ee",
   "metadata": {},
   "outputs": [],
   "source": []
  }
 ],
 "metadata": {
  "kernelspec": {
   "display_name": "Python 3 (ipykernel)",
   "language": "python",
   "name": "python3"
  },
  "language_info": {
   "codemirror_mode": {
    "name": "ipython",
    "version": 3
   },
   "file_extension": ".py",
   "mimetype": "text/x-python",
   "name": "python",
   "nbconvert_exporter": "python",
   "pygments_lexer": "ipython3",
   "version": "3.8.10"
  }
 },
 "nbformat": 4,
 "nbformat_minor": 5
}
