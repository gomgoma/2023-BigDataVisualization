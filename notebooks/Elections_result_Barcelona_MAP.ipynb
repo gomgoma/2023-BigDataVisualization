{
 "cells": [
  {
   "cell_type": "code",
   "execution_count": null,
   "id": "07679d17-8548-4245-a54a-f18058dfe953",
   "metadata": {},
   "outputs": [],
   "source": [
    "import geopandas as gpd\n",
    "import pandas as pd\n",
    "import plotly.express as px\n",
    "\n",
    "# Load election data\n",
    "data_dir = \"../data/\"\n",
    "election_data = pd.read_csv(data_dir + \"G20192-Columnes-ME-EN.csv\", sep=';')\n",
    "election_data"
   ]
  },
  {
   "cell_type": "code",
   "execution_count": null,
   "id": "21594cf4-913a-4450-b4d9-2443c0e4e294",
   "metadata": {},
   "outputs": [],
   "source": [
    "# Extract Barcelona data\n",
    "barcelona_data = election_data[election_data['Municipality_name'] == 'Barcelona']\n",
    "# Add up votes for each district of Barcelona\n",
    "district_data = barcelona_data.iloc[:, 21:].groupby(by=barcelona_data[\"District\"]).sum()\n",
    "district_data.reset_index()"
   ]
  },
  {
   "cell_type": "code",
   "execution_count": null,
   "id": "c7e668dd-479d-45e1-84b8-af7dfbe16a7a",
   "metadata": {},
   "outputs": [],
   "source": [
    "# Find the winner party of every district\n",
    "winner_by_district=district_data.idxmax(axis=1)\n",
    "winner_by_district.reset_index()\n",
    "list_winners=list(winner_by_district)\n",
    "# Add column with winner party\n",
    "district_data['winner']=list_winners\n",
    "district_data"
   ]
  },
  {
   "cell_type": "code",
   "execution_count": null,
   "id": "570516a5-1019-4212-8bbe-67991a21e520",
   "metadata": {},
   "outputs": [],
   "source": [
    "# Read Barcelona's districts map\n",
    "bcn = gpd.read_file(data_dir + \"districts_BCN.geojson\")\n",
    "bcn.head()\n",
    "# Select only the columns 'NOM' and 'geometry' from the GeoDataFrame\n",
    "bcn = bcn[['NOM','geometry']]\n",
    "# Rename the 'DISTRICTE' column to 'District'\n",
    "bcn.rename(columns={'DISTRICTE': 'District'}, inplace=True)\n",
    "# Create a new GeoDataFrame with the selected columns\n",
    "bcn_gpd = gpd.GeoDataFrame(bcn)\n",
    "# Add a new column 'District' with values 1 to 10\n",
    "bcn_gpd['District'] = [1, 2, 3, 4, 5, 6, 7, 8, 9, 10]\n",
    "bcn_gpd"
   ]
  },
  {
   "cell_type": "code",
   "execution_count": null,
   "id": "dc6d6c58-6495-43ba-ad93-02ccd01978d6",
   "metadata": {},
   "outputs": [],
   "source": [
    "# Merge Barcelona's districts map with votes in each district\n",
    "merged_data = bcn_gpd.merge(district_data, on='District')\n",
    "merged_data.to_csv('election_results_bcn.csv', index=False)\n"
   ]
  },
  {
   "cell_type": "code",
   "execution_count": null,
   "id": "a9056019-7322-40ea-b0f1-fef74dcfd776",
   "metadata": {},
   "outputs": [],
   "source": [
    "# Plot the election results on a map of Barcelona's districts\n",
    "\n",
    "fig = px.choropleth_mapbox(\n",
    "    merged_data,\n",
    "    geojson=merged_data.geometry,\n",
    "    locations=merged_data.index,\n",
    "    color='winner',  # Change to the column you want to visualize\n",
    "    hover_name='District',\n",
    "    mapbox_style=\"carto-positron\",\n",
    "    color_discrete_sequence=[\"darkred\", \"goldenrod\", \"lightgreen\", \"royalblue\", \"black\",'purple'],\n",
    "    center={\"lat\": 41.3874, \"lon\": 2.1686},  # Center of Catalonia\n",
    "    zoom=10,\n",
    "    title='Election results by Barcelona district'\n",
    ")\n",
    "\n",
    "fig.update_layout(height=600, width=800)\n",
    "fig.update_geos(fitbounds=\"locations\", visible=False)\n",
    "fig.show()"
   ]
  }
 ],
 "metadata": {
  "kernelspec": {
   "display_name": "Python 3 (ipykernel)",
   "language": "python",
   "name": "python3"
  },
  "language_info": {
   "codemirror_mode": {
    "name": "ipython",
    "version": 3
   },
   "file_extension": ".py",
   "mimetype": "text/x-python",
   "name": "python",
   "nbconvert_exporter": "python",
   "pygments_lexer": "ipython3",
   "version": "3.8.10"
  }
 },
 "nbformat": 4,
 "nbformat_minor": 5
}
