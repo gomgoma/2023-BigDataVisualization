{
 "cells": [
  {
   "cell_type": "code",
   "execution_count": null,
   "id": "0bbbdc39-6d28-42c8-a2ea-d539bbf4b680",
   "metadata": {},
   "outputs": [],
   "source": [
    "import geopandas as gpd\n",
    "import pandas as pd\n",
    "import plotly.express as px\n",
    "\n",
    "# Load election data\n",
    "data_dir = \"../data/\"\n",
    "income = pd.read_csv(data_dir + \"income_data.csv\", sep=',')\n",
    "income"
   ]
  },
  {
   "cell_type": "code",
   "execution_count": null,
   "id": "9983f624-2d26-4a13-a33c-cd26e1af9b19",
   "metadata": {},
   "outputs": [],
   "source": [
    "# Extract Barcelona data\n",
    "income_bcn = income[income['Municipalities'] == '08019 Barcelona']\n",
    "income_bcn\n"
   ]
  },
  {
   "cell_type": "code",
   "execution_count": null,
   "id": "1609042a-cea3-4aa6-b527-ff7d9c8a3ff6",
   "metadata": {},
   "outputs": [],
   "source": [
    "# Convert the 'Total' column to numeric using .loc\n",
    "income_bcn.loc[:, 'Total'] = income_bcn['Total'].astype(float)\n",
    "\n",
    "income_bcn.loc[:, 'Districts'] = income_bcn['Districts'].astype(float)\n",
    "\n",
    "# Check the data type again\n",
    "total_data_type = income_bcn['Total'].dtype\n",
    "\n",
    "# Display the result\n",
    "print(\"Data type of 'Total' column after conversion:\", total_data_type)\n"
   ]
  },
  {
   "cell_type": "code",
   "execution_count": null,
   "id": "86b7beb1-f28f-4880-91ee-1cfda6dd7432",
   "metadata": {},
   "outputs": [],
   "source": [
    "#income_bcn.loc[:, 'Total'] = income_bcn['Total'].astype(float)\n",
    "#total_data_type = income_bcn['Total'].dtype\n",
    "print(total_data_type)"
   ]
  },
  {
   "cell_type": "code",
   "execution_count": null,
   "id": "3a99b57b-e8d9-4a6c-a068-443625653e87",
   "metadata": {},
   "outputs": [],
   "source": [
    "#income_bcn.loc[:, 'Districts'] = income_bcn['Districts'].astype(float)\n",
    "#distr_data_type = income_bcn['Districts'].dtype\n",
    "print(distr_data_type)"
   ]
  },
  {
   "cell_type": "code",
   "execution_count": null,
   "id": "faf67371-7262-4a37-b74f-876bfe06592f",
   "metadata": {},
   "outputs": [],
   "source": [
    "# Add up votes for each district of Barcelona\n",
    "income_bcn_district = income_bcn.groupby('Districts')['Total'].mean().reset_index().sort_values(by='Districts')\n",
    "income_bcn_district"
   ]
  },
  {
   "cell_type": "code",
   "execution_count": null,
   "id": "02a0b6d0-0c84-4617-a4c7-246bdd45f957",
   "metadata": {},
   "outputs": [],
   "source": [
    "# Read Barcelona's districts map\n",
    "bcn = gpd.read_file(data_dir + \"districts_BCN.geojson\")\n",
    "bcn.head()\n",
    "# Select only the columns 'NOM' and 'geometry' from the GeoDataFrame\n",
    "bcn = bcn[['NOM','geometry']]\n",
    "# Rename the 'DISTRICTE' column to 'District'\n",
    "bcn.rename(columns={'DISTRICTE': 'Districts'}, inplace=True)\n",
    "# Create a new GeoDataFrame with the selected columns\n",
    "bcn_gpd = gpd.GeoDataFrame(bcn)\n",
    "# Add a new column 'District' with values 1 to 10\n",
    "bcn_gpd['Districts'] = [1, 2, 3, 4, 5, 6, 7, 8, 9, 10]\n",
    "bcn_gpd"
   ]
  },
  {
   "cell_type": "code",
   "execution_count": null,
   "id": "b21a6083-e445-450f-a5f9-0264eb55fe8e",
   "metadata": {},
   "outputs": [],
   "source": [
    "# Merge Barcelona's districts map with votes in each district\n",
    "merged_data = bcn_gpd.merge(income_bcn_district, on='Districts')\n",
    "merged_data = merged_data.rename(columns={'Total': 'Average income per person/house (€)'})\n",
    "\n",
    "merged_data"
   ]
  },
  {
   "cell_type": "code",
   "execution_count": null,
   "id": "f56559cc-7ddc-4dcc-96d4-3109222f1e6c",
   "metadata": {},
   "outputs": [],
   "source": [
    "# Plot the election results on a map of Barcelona's districts\n",
    "\n",
    "fig = px.choropleth_mapbox(\n",
    "    merged_data,\n",
    "    geojson=merged_data.geometry,\n",
    "    locations=merged_data.index,\n",
    "    color='Average income per person/house (€)',  # Change to the column you want to visualize\n",
    "    hover_name='Districts',\n",
    "    mapbox_style=\"carto-positron\",\n",
    "    center={\"lat\": 41.3874, \"lon\": 2.1686},\n",
    "    title= 'Income by district',# Center of Catalonia\n",
    "    zoom=10\n",
    ")\n",
    "\n",
    "fig.update_layout(height=600, width=800)\n",
    "fig.update_geos(fitbounds=\"locations\", visible=False)\n",
    "fig.show()"
   ]
  }
 ],
 "metadata": {
  "kernelspec": {
   "display_name": "Python 3 (ipykernel)",
   "language": "python",
   "name": "python3"
  },
  "language_info": {
   "codemirror_mode": {
    "name": "ipython",
    "version": 3
   },
   "file_extension": ".py",
   "mimetype": "text/x-python",
   "name": "python",
   "nbconvert_exporter": "python",
   "pygments_lexer": "ipython3",
   "version": "3.8.10"
  }
 },
 "nbformat": 4,
 "nbformat_minor": 5
}
