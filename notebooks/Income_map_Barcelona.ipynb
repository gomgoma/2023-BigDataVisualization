{
 "cells": [
  {
   "cell_type": "code",
   "execution_count": null,
   "id": "0bbbdc39-6d28-42c8-a2ea-d539bbf4b680",
   "metadata": {},
   "outputs": [],
   "source": [
    "import geopandas as gpd\n",
    "import pandas as pd\n",
    "import plotly.express as px\n",
    "import seaborn as sns\n",
    "import matplotlib.pyplot as plt\n",
    "\n",
    "# Load income data\n",
    "data_dir = \"../data/\"\n",
    "income = pd.read_csv(data_dir + \"income_data.csv\")\n",
    "income"
   ]
  },
  {
   "cell_type": "code",
   "execution_count": null,
   "id": "9983f624-2d26-4a13-a33c-cd26e1af9b19",
   "metadata": {},
   "outputs": [],
   "source": [
    "# Extract Barcelona data\n",
    "income_bcn = income[income['Municipalities'] == 'Barcelona']\n",
    "income_bcn"
   ]
  },
  {
   "cell_type": "code",
   "execution_count": null,
   "id": "1609042a-cea3-4aa6-b527-ff7d9c8a3ff6",
   "metadata": {},
   "outputs": [],
   "source": [
    "# Convert the 'Average net income per person (K €)' column to numeric using .loc\n",
    "income_bcn.loc[:, 'Average net income per person (K €)'] = income_bcn['Average net income per person (K €)'].astype(float)\n",
    "income_bcn.loc[:, 'Districts'] = income_bcn['Districts'].astype(float)"
   ]
  },
  {
   "cell_type": "code",
   "execution_count": null,
   "id": "faf67371-7262-4a37-b74f-876bfe06592f",
   "metadata": {},
   "outputs": [],
   "source": [
    "# Calculate mean income for each district of Barcelona\n",
    "income_bcn_district = income_bcn.groupby('Districts')['Average net income per person (K €)'].mean().reset_index().sort_values(by='Districts')\n",
    "income_bcn_district"
   ]
  },
  {
   "cell_type": "code",
   "execution_count": null,
   "id": "02a0b6d0-0c84-4617-a4c7-246bdd45f957",
   "metadata": {},
   "outputs": [],
   "source": [
    "# Read Barcelona's districts map\n",
    "bcn = gpd.read_file(data_dir + \"districts_BCN.geojson\")\n",
    "bcn.head()\n",
    "# Select only the columns 'NOM' and 'geometry' from the GeoDataFrame\n",
    "bcn = bcn[['NOM','geometry']]\n",
    "# Rename the 'DISTRICTE' column to 'Districts'\n",
    "bcn.rename(columns={'DISTRICTE': 'Districts'}, inplace=True)\n",
    "# Create a new GeoDataFrame with the selected columns\n",
    "bcn_gpd = gpd.GeoDataFrame(bcn)\n",
    "# Add a new column 'Districts' with values 1 to 10\n",
    "bcn_gpd['Districts'] = [1, 2, 3, 4, 5, 6, 7, 8, 9, 10]\n",
    "bcn_gpd"
   ]
  },
  {
   "cell_type": "code",
   "execution_count": null,
   "id": "78ddd031-0d14-4169-b891-03c002085c92",
   "metadata": {},
   "outputs": [],
   "source": [
    "# Calculate income_min as the minimum value in the 'Average net income per person (K €)' column\n",
    "income_min = income_bcn_district['Average net income per person (K €)'].min()\n",
    "\n",
    "# Calculate quartiles for 'Average net income per person (K €)'\n",
    "quartiles = income_bcn_district['Average net income per person (K €)'].quantile([0.25, 0.5, 0.75])\n",
    "\n",
    "# Define income values based on quartiles\n",
    "income_1 = quartiles[0.25]\n",
    "income_3 = quartiles[0.75]\n",
    "income_max = income_bcn_district['Average net income per person (K €)'].max()\n",
    "\n",
    "# Function to assign values to income_label with quartiles\n",
    "def assign_income_label(x):\n",
    "    if income_min <= x < income_1:\n",
    "        return 'Low Income (Q1: {:.1f} - Q2: {:.1f} K €)'.format(round(income_min, 1), round(income_1, 1))\n",
    "    elif income_1 <= x < income_3:\n",
    "        return 'Medium/High Income (Q2: {:.1f} - Q3: {:.1f} K €)'.format(round(income_1, 1), round(income_3, 1))\n",
    "    else:\n",
    "        return 'Very High Income (Q3: {:.1f} - Q4: {:.1f} K €)'.format(round(income_3, 1), round(income_max, 1))\n",
    "\n",
    "# Create the new column \"income_label\" with quartiles\n",
    "income_bcn_district['income_label'] = income_bcn_district['Average net income per person (K €)'].apply(assign_income_label)\n",
    "\n",
    "# View the resulting DataFrame\n",
    "print(income_bcn_district)\n",
    "print(quartiles)\n",
    "# Plot a histogram\n",
    "plt.hist(income_bcn_district['Average net income per person (K €)'])\n",
    "plt.xlabel('Average net income per person (K €)')\n",
    "plt.ylabel('Frequency')\n",
    "plt.title('Income Distribution in Barcelona Districts')\n",
    "plt.show()\n"
   ]
  },
  {
   "cell_type": "code",
   "execution_count": null,
   "id": "e02c6cec-e6bc-44eb-bf13-6fcbd0447622",
   "metadata": {},
   "outputs": [],
   "source": []
  },
  {
   "cell_type": "code",
   "execution_count": null,
   "id": "b21a6083-e445-450f-a5f9-0264eb55fe8e",
   "metadata": {},
   "outputs": [],
   "source": [
    "# Merge Barcelona's districts map with income in each district\n",
    "merged_data = bcn_gpd.merge(income_bcn_district, on='Districts')\n",
    "merged_data"
   ]
  },
  {
   "cell_type": "code",
   "execution_count": null,
   "id": "f56559cc-7ddc-4dcc-96d4-3109222f1e6c",
   "metadata": {},
   "outputs": [],
   "source": [
    "# Plot the average income on a map of Barcelona's districts\n",
    "\n",
    "fig = px.choropleth_mapbox(\n",
    "    merged_data,\n",
    "    geojson=merged_data.geometry,\n",
    "    locations=merged_data.index,\n",
    "    color='Average net income per person (K €)',  # Change to the column you want to visualize\n",
    "    hover_name='Districts',\n",
    "    mapbox_style=\"carto-positron\",\n",
    "    center={\"lat\": 41.3874, \"lon\": 2.1686},\n",
    "    title= 'Income by district',# Center of Catalonia\n",
    "    color_continuous_scale=\"sunset\",\n",
    "    zoom=10\n",
    ")\n",
    "\n",
    "fig.update_layout(height=600, width=800)\n",
    "fig.update_geos(fitbounds=\"locations\", visible=False)\n",
    "fig.show()"
   ]
  },
  {
   "cell_type": "code",
   "execution_count": null,
   "id": "97445afa-f874-4c1d-b989-63db16dc85d6",
   "metadata": {},
   "outputs": [],
   "source": [
    "# Plot the average income on a map of Barcelona's districts\n",
    "merged_data_sort = merged_data.sort_values(by='Average net income per person (K €)')\n",
    "fig = px.choropleth_mapbox(\n",
    "    merged_data_sort,\n",
    "    geojson=merged_data_sort.geometry,\n",
    "    locations=merged_data_sort.index,\n",
    "    color='income_label',  # Change to the column you want to visualize\n",
    "    hover_name='Districts',\n",
    "    mapbox_style=\"carto-positron\",\n",
    "    center={\"lat\": 41.3874, \"lon\": 2.1686},\n",
    "    color_discrete_map={'Low Income (Q1: 11.6 - Q2: 14.4 K €)': 'lightgreen', 'Medium/High Income (Q2: 14.4 - Q3: 18.6 K €)': 'green', 'Very High Income (Q3: 18.6 - Q4: 26.2 K €)': 'darkgreen'}, \n",
    "    title= 'Wealth level by district',# Center of Catalonia\n",
    "    zoom=10\n",
    ")\n",
    "\n",
    "fig.update_layout(height=600, width=800)\n",
    "fig.update_geos(fitbounds=\"locations\", visible=False)\n",
    "fig.show()"
   ]
  },
  {
   "cell_type": "code",
   "execution_count": null,
   "id": "b7ed3987-5c64-4ad7-828d-26fd1de8d870",
   "metadata": {},
   "outputs": [],
   "source": []
  },
  {
   "cell_type": "code",
   "execution_count": null,
   "id": "7e644bcb-8145-40a4-8637-b765a6013f68",
   "metadata": {},
   "outputs": [],
   "source": [
    "# Load election data\n",
    "deriv_dir = \"../derivatives/\"\n",
    "elections_bcn = pd.read_csv(deriv_dir + \"election_results_bcn.csv\")\n",
    "elections_bcn = elections_bcn.rename(columns={'District': 'Districts'})"
   ]
  },
  {
   "cell_type": "code",
   "execution_count": null,
   "id": "b7a504a9-289d-4ec4-ae05-5dcf6d19587d",
   "metadata": {},
   "outputs": [],
   "source": [
    "# Merge the DataFrames based on 'Districts'\n",
    "merged_df = pd.merge(elections_bcn, income_bcn_district, on='Districts', how='left')\n",
    "\n",
    "# Check the correlation between 'winner' and 'Average net income per person (K €)'\n",
    "correlation = merged_df['winner'].astype('category').cat.codes.corr(merged_df['Average net income per person (K €)'])\n",
    "\n",
    "# Display the correlation\n",
    "print(\"Correlation between winner and Average net income per person (K €):\", correlation)\n",
    "\n",
    "# Plot a boxplot based on 'winner'\n",
    "plt.figure(figsize=(12, 8))\n",
    "sns.boxplot(x='winner', y='Average net income per person (K €)', data=merged_df)\n",
    "plt.title('Boxplot of Average net income per person (K €) by Winner')\n",
    "plt.show()\n"
   ]
  },
  {
   "cell_type": "code",
   "execution_count": null,
   "id": "1929980e-ba26-46c1-9ec7-e0edbd84dc4f",
   "metadata": {},
   "outputs": [],
   "source": [
    "# Check the correlation between 'winner' and 'Average net income per person (K €)'\n",
    "correlation_junts_votes = merged_df['JUNTS_votes'].corr(merged_df['Average net income per person (K €)'])\n",
    "correlation_psc_votes = merged_df['PSC_votes'].corr(merged_df['Average net income per person (K €)'])\n",
    "correlation_erc_votes = merged_df['ERC_votes'].corr(merged_df['Average net income per person (K €)'])\n",
    "\n",
    "# Display the correlation\n",
    "print(\"Correlation between JUNTS votes and Average net income per person (K €):\", correlation_junts_votes)\n",
    "print(\"Correlation between PSC votes and Average net income per person (K €):\", correlation_psc_votes)\n",
    "print(\"Correlation between ERC votes and Average net income per person (K €):\", correlation_erc_votes)\n",
    "\n",
    "# Scatter plot\n",
    "plt.figure(figsize=(10, 6))\n",
    "plt.scatter(merged_df['JUNTS_votes'], merged_df['Average net income per person (K €)'], alpha=0.5)\n",
    "plt.title('Scatter Plot of JUNTS_votes vs Average net income per person (K €)')\n",
    "plt.xlabel('JUNTS_votes')\n",
    "plt.ylabel('Average net income per person (K €)')\n",
    "plt.show()"
   ]
  },
  {
   "cell_type": "code",
   "execution_count": null,
   "id": "34c5bb42-7824-4f1a-a6e7-5697dd0883e9",
   "metadata": {},
   "outputs": [],
   "source": []
  },
  {
   "cell_type": "code",
   "execution_count": null,
   "id": "2e4db568-8976-48e3-aa6c-f33a6927c9b5",
   "metadata": {},
   "outputs": [],
   "source": []
  }
 ],
 "metadata": {
  "kernelspec": {
   "display_name": "Python 3 (ipykernel)",
   "language": "python",
   "name": "python3"
  },
  "language_info": {
   "codemirror_mode": {
    "name": "ipython",
    "version": 3
   },
   "file_extension": ".py",
   "mimetype": "text/x-python",
   "name": "python",
   "nbconvert_exporter": "python",
   "pygments_lexer": "ipython3",
   "version": "3.8.10"
  }
 },
 "nbformat": 4,
 "nbformat_minor": 5
}
