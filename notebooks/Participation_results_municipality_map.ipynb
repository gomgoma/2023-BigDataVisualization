{
 "cells": [
  {
   "cell_type": "code",
   "execution_count": null,
   "id": "ddff5861-9ffe-4fa5-b090-0f49458c3157",
   "metadata": {},
   "outputs": [],
   "source": [
    "import geopandas as gpd\n",
    "import pandas as pd\n",
    "import plotly.express as px\n",
    "import matplotlib.pyplot as plt"
   ]
  },
  {
   "cell_type": "code",
   "execution_count": null,
   "id": "77fca467-5f7a-4102-b52b-3d4a0574f229",
   "metadata": {},
   "outputs": [],
   "source": [
    "# Load election data\n",
    "data_dir = \"../data/\"\n",
    "election_data = pd.read_csv(data_dir + \"G20192-Columnes-ME-EN.csv\", sep=';')"
   ]
  },
  {
   "cell_type": "code",
   "execution_count": null,
   "id": "7686e31e-d7e5-4d6c-8b79-8484c473bcea",
   "metadata": {},
   "outputs": [],
   "source": [
    "# Load GeoJSON file with Catalonian municipalities\n",
    "map_catalonia='municipality_map.geojson'\n",
    "geo_data = gpd.read_file(data_dir + map_catalonia)"
   ]
  },
  {
   "cell_type": "code",
   "execution_count": null,
   "id": "e8f56e3c-4da4-4107-b4c8-d6d2575bd372",
   "metadata": {},
   "outputs": [],
   "source": [
    "# Translate column used to merge datasets\n",
    "geo_data.rename(columns={'nom_muni': 'Municipality_name'}, inplace=True)\n",
    "# Sort array by column of interest\n",
    "geo_data_sorted=geo_data.sort_values(by='Municipality_name')"
   ]
  },
  {
   "cell_type": "code",
   "execution_count": null,
   "id": "c1ff5afd-5cb8-4a6e-b156-af3279e6f6ea",
   "metadata": {},
   "outputs": [],
   "source": [
    "# Sum up the participation for each municipality\n",
    "participation_by_municipality = election_data.iloc[:, 11:21].groupby(by=election_data[\"Municipality_name\"]).sum()\n",
    "participation_by_municipality.reset_index()\n",
    "participation_by_municipality"
   ]
  },
  {
   "cell_type": "code",
   "execution_count": null,
   "id": "b5bac05b-d759-44dc-aaf9-dd542ac9b12b",
   "metadata": {},
   "outputs": [],
   "source": [
    "# Add a column to calculate the participation ratio (total number of voting-eligible population)\n",
    "participation_by_municipality['Participation_rate'] = participation_by_municipality['Part_20:00'] / participation_by_municipality['Electoral_census']\n",
    "participation_by_municipality"
   ]
  },
  {
   "cell_type": "code",
   "execution_count": null,
   "id": "f34b6636-f242-4ad9-a15a-96530b7005fa",
   "metadata": {},
   "outputs": [],
   "source": [
    "# Merge municipality map and participation by municipality\n",
    "merged_data = geo_data_sorted.merge(participation_by_municipality, on='Municipality_name')\n",
    "merged_data"
   ]
  },
  {
   "cell_type": "code",
   "execution_count": null,
   "id": "d2313359-d991-478e-83f6-d8f918367a1c",
   "metadata": {},
   "outputs": [],
   "source": [
    "# Plot the participation rate on a map of Catalonian municipalities\n",
    "\n",
    "fig = px.choropleth_mapbox(\n",
    "    merged_data,\n",
    "    geojson=merged_data.geometry,\n",
    "    locations=merged_data.index,\n",
    "    color='Participation_rate',  # Change to the column you want to visualize\n",
    "    hover_name='Municipality_name',\n",
    "    mapbox_style=\"carto-positron\",\n",
    "    center={\"lat\": 41.8781, \"lon\": 1.7834},  # Center of Catalonia\n",
    "    zoom=7\n",
    ")\n",
    "\n",
    "fig.update_geos(fitbounds=\"locations\", visible=False)\n",
    "fig.update_layout(height=600, width=800)\n",
    "fig.show()"
   ]
  },
  {
   "cell_type": "code",
   "execution_count": null,
   "id": "abab6d22-e816-4b00-bb5c-a41a424c9fb9",
   "metadata": {},
   "outputs": [],
   "source": [
    "# Plot participation rate vs municipality electoral census\n",
    "plt.scatter(participation_by_municipality['Electoral_census'], participation_by_municipality['Participation_rate'])\n",
    "plt.xlabel('log(Municipality electoral census)')\n",
    "plt.ylabel('Participation rate')\n",
    "plt.xscale('log')  # Set x-axis to log scale\n",
    "\n",
    "# Show the plot\n",
    "plt.show()\n",
    "\n",
    "# Calculate and print the correlation coefficient\n",
    "correlation_coefficient = participation_by_municipality['Electoral_census'].corr(participation_by_municipality['Participation_rate'])\n",
    "print(f'Correlation Coefficient: {correlation_coefficient}')"
   ]
  },
  {
   "cell_type": "code",
   "execution_count": null,
   "id": "fc8ecc92-f27a-4ea8-bc9e-76e59cd98b5c",
   "metadata": {},
   "outputs": [],
   "source": [
    "# Histogram of participation rate \n",
    "plt.hist(participation_by_municipality['Participation_rate'], bins=30)"
   ]
  }
 ],
 "metadata": {
  "kernelspec": {
   "display_name": "Python 3 (ipykernel)",
   "language": "python",
   "name": "python3"
  },
  "language_info": {
   "codemirror_mode": {
    "name": "ipython",
    "version": 3
   },
   "file_extension": ".py",
   "mimetype": "text/x-python",
   "name": "python",
   "nbconvert_exporter": "python",
   "pygments_lexer": "ipython3",
   "version": "3.8.10"
  }
 },
 "nbformat": 4,
 "nbformat_minor": 5
}
