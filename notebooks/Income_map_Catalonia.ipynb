{
 "cells": [
  {
   "cell_type": "code",
   "execution_count": null,
   "id": "6244b2c0-8d85-4e12-8c6c-7aa193ffc1b5",
   "metadata": {},
   "outputs": [],
   "source": [
    "import geopandas as gpd\n",
    "import pandas as pd\n",
    "import plotly.express as px\n",
    "import seaborn as sns\n",
    "import matplotlib.pyplot as plt\n",
    "\n",
    "# Load election data\n",
    "data_dir = \"../data/\"\n",
    "income = pd.read_csv(data_dir + \"income_data.csv\")\n",
    "income"
   ]
  },
  {
   "cell_type": "code",
   "execution_count": null,
   "id": "7ba0986d-9e91-4dfa-be43-434607780e2b",
   "metadata": {},
   "outputs": [],
   "source": [
    "# Convert the 'Average net income per person (K €)' column to numeric using .loc\n",
    "income.loc[:, 'Average net income per person (K €)'] = income['Average net income per person (K €)'].apply(pd.to_numeric, errors='coerce')\n",
    "income"
   ]
  },
  {
   "cell_type": "code",
   "execution_count": null,
   "id": "bb4a676e-b5db-4a1f-9e00-ffb2c19cd215",
   "metadata": {},
   "outputs": [],
   "source": [
    "income_municipality = income.groupby('Municipalities')['Average net income per person (K €)'].mean().reset_index()\n",
    "income_municipality"
   ]
  },
  {
   "cell_type": "code",
   "execution_count": null,
   "id": "b0d05806-0451-4d73-8a28-f39e60a6168a",
   "metadata": {},
   "outputs": [],
   "source": [
    "# Load GeoJSON file\n",
    "map_catalonia='municipality_map.geojson'\n",
    "municipalities = gpd.read_file(data_dir + map_catalonia)"
   ]
  },
  {
   "cell_type": "code",
   "execution_count": null,
   "id": "3dc26d0b-a2df-4640-8fc8-a8732041e079",
   "metadata": {},
   "outputs": [],
   "source": [
    "# Translate column used to merge datasets and sort dataset based on this\n",
    "municipalities.rename(columns={'nom_muni': 'Municipalities'}, inplace=True)\n",
    "municipalities=municipalities.sort_values(by='Municipalities')"
   ]
  },
  {
   "cell_type": "code",
   "execution_count": null,
   "id": "067ddd8e-84ac-42e6-a659-7a1a5527108e",
   "metadata": {},
   "outputs": [],
   "source": [
    "# Merge municipalities map and income by municipality\n",
    "merged_data_municipality = municipalities.merge(income_municipality, on='Municipalities')\n",
    "merged_data_municipality"
   ]
  },
  {
   "cell_type": "code",
   "execution_count": null,
   "id": "9d9a51ff-42c1-464b-8883-570bf0d9aa8c",
   "metadata": {},
   "outputs": [],
   "source": [
    "# Plot the average income on a map of Catalonian municipalities\n",
    "\n",
    "fig = px.choropleth_mapbox(\n",
    "    merged_data_municipality,\n",
    "    geojson=merged_data_municipality.geometry,\n",
    "    locations=merged_data_municipality.index,\n",
    "    color='Average net income per person (K €)',  # Change to the column you want to visualize\n",
    "    hover_name='Municipalities',\n",
    "    mapbox_style=\"carto-positron\",\n",
    "    center={\"lat\": 41.8781, \"lon\": 1.7834},  # Center of Catalonia\n",
    "    zoom=7,\n",
    "    color_continuous_scale=\"sunset\",\n",
    "    title='Average net income per person by municipality'\n",
    ")\n",
    "fig.update_layout(height=600, width=800)\n",
    "fig.update_geos(fitbounds=\"locations\", visible=False)\n",
    "\n",
    "fig.show()"
   ]
  },
  {
   "cell_type": "code",
   "execution_count": null,
   "id": "7e2bb3db-e596-4b62-a78e-bdc8ce8d75dc",
   "metadata": {},
   "outputs": [],
   "source": [
    "# Load election data\n",
    "deriv_dir = \"../derivatives/\"\n",
    "elections_municipality = pd.read_csv(deriv_dir + \"election_results_municipality.csv\")\n",
    "elections_municipality = elections_municipality.rename(columns={'Municipality_name': 'Municipalities'})\n",
    "elections_municipality"
   ]
  },
  {
   "cell_type": "code",
   "execution_count": null,
   "id": "a2705864-6000-4d40-9ea4-30748f349ad6",
   "metadata": {},
   "outputs": [],
   "source": [
    "# Merge the DataFrames based on 'Municipalities'\n",
    "merged_df = pd.merge(elections_municipality, income_municipality, on='Municipalities', how='left')\n",
    "\n",
    "# Check the correlation between 'winner' and 'Average net income per person (K €)'\n",
    "correlation = merged_df['winner'].astype('category').cat.codes.corr(merged_df['Average net income per person (K €)'])\n",
    "\n",
    "# Display the correlation\n",
    "print(\"Correlation between winner and Average net income per person (K €):\", correlation)\n",
    "\n",
    "# Plot a boxplot based on 'winner'\n",
    "plt.figure(figsize=(12, 8))\n",
    "sns.boxplot(x='winner', y='Average net income per person (K €)', data=merged_df)\n",
    "plt.title('Boxplot of Average net income per person (K €) by Winner')\n",
    "plt.show()"
   ]
  },
  {
   "cell_type": "code",
   "execution_count": null,
   "id": "d278f13f-17fc-4b41-a996-7db7539cbfa1",
   "metadata": {},
   "outputs": [],
   "source": [
    "# Check the correlation between 'winner' and 'Average net income per person (K €)'\n",
    "correlation_junts_votes = merged_df['JUNTS_votes'].corr(merged_df['Average net income per person (K €)'])\n",
    "correlation_psc_votes = merged_df['PSC_votes'].corr(merged_df['Average net income per person (K €)'])\n",
    "correlation_erc_votes = merged_df['ERC_votes'].corr(merged_df['Average net income per person (K €)'])\n",
    "\n",
    "# Display the correlation\n",
    "print(\"Correlation between JUNTS votes and Average net income per person (K €):\", correlation_junts_votes)\n",
    "print(\"Correlation between PSC votes and Average net income per person (K €):\", correlation_psc_votes)\n",
    "print(\"Correlation between ERC votes and Average net income per person (K €):\", correlation_erc_votes)\n",
    "\n",
    "# Scatter plot\n",
    "plt.figure(figsize=(10, 6))\n",
    "plt.scatter(merged_df['JUNTS_votes'], merged_df['Average net income per person (K €)'], alpha=0.5)\n",
    "plt.xscale('log')  # Set x-axis to log scale\n",
    "plt.title('JUNTS_votes vs Average net income per person (K €)')\n",
    "plt.xlabel('log(JUNTS_votes)')\n",
    "plt.ylabel('Average net income per person (K €)')\n",
    "plt.show()"
   ]
  },
  {
   "cell_type": "code",
   "execution_count": null,
   "id": "b4cec712-b96b-44d7-941f-ba9ec26b6e26",
   "metadata": {},
   "outputs": [],
   "source": [
    "# Load dataset with correspondence between municipalities, counties and provinces of Catalonia\n",
    "munic_county_prov_inh = pd.read_csv(data_dir + \"municipality_county_province_cat.csv\")\n",
    "# Merge the two datasets on the 'Municipalities' column\n",
    "result_df = pd.merge(income_municipality, munic_county_prov_inh[['Municipality_name', 'County_name', 'Province_name']], left_on='Municipalities', right_on='Municipality_name', how='left')\n",
    "# Drop the duplicate 'Municipality_name' column\n",
    "result_df = result_df.drop(columns='Municipality_name')\n",
    "result_df"
   ]
  },
  {
   "cell_type": "code",
   "execution_count": null,
   "id": "14538c97-c850-4f74-a804-6eea32675ce8",
   "metadata": {},
   "outputs": [],
   "source": [
    "# Group by 'County_name' and calculate the average 'Average net income per person (K €)'\n",
    "average_income_by_county = result_df.groupby('County_name')['Average net income per person (K €)'].mean().reset_index()"
   ]
  },
  {
   "cell_type": "code",
   "execution_count": null,
   "id": "e6d66f4b-6665-4a39-86e4-762fc813f492",
   "metadata": {},
   "outputs": [],
   "source": [
    "# Calculate income_min and income_max\n",
    "income_min = average_income_by_county['Average net income per person (K €)'].min()\n",
    "income_max = average_income_by_county['Average net income per person (K €)'].max()\n",
    "\n",
    "# Assign values to alpha and beta\n",
    "alpha = 0.6  # You can assign the value you want\n",
    "beta = 0.8   # You can assign the value you want\n",
    "\n",
    "# Calculate delta_income\n",
    "delta_income = income_max - income_min\n",
    "\n",
    "# Calculate income_1 and income_2\n",
    "income_1 = income_min + alpha * delta_income\n",
    "income_2 = income_min + beta * delta_income\n",
    "\n",
    "# Function to assign values to wealth_label\n",
    "def assign_wealth_label(x):\n",
    "    if income_min <= x < income_1:\n",
    "        return 'Low to Medium Income ({:.1f} to {:.1f} K €)'.format(round(income_min, 1), round(income_1, 1))\n",
    "    elif income_1 <= x < income_2:\n",
    "        return 'High Income ({:.1f} to {:.1f} K €)'.format(round(income_1, 1), round(income_2, 1))\n",
    "    elif income_2 <= x <= income_max:\n",
    "        return 'Very High Income ({:.1f} to {:.1f} K €)'.format(round(income_2, 1), round(income_max, 1))\n",
    "    else:\n",
    "        return None  # Handle out-of-range cases if necessary\n",
    "\n",
    "# Create the new column \"wealth_label\"\n",
    "average_income_by_county['wealth_label'] = average_income_by_county['Average net income per person (K €)'].apply(assign_wealth_label)\n",
    "\n",
    "# Create the new column \"wealth_label\"\n",
    "average_income_by_county['wealth_label'] = average_income_by_county['Average net income per person (K €)'].apply(assign_wealth_label)\n",
    "average_income_by_county['wealth_label']"
   ]
  },
  {
   "cell_type": "code",
   "execution_count": null,
   "id": "ccf6c983-830b-4e76-9765-4de2163c01b0",
   "metadata": {},
   "outputs": [],
   "source": [
    "# Calculate quartiles\n",
    "quartiles = average_income_by_county['Average net income per person (K €)'].quantile([0, 0.25, 0.5, 0.75, 1])\n",
    "\n",
    "# Function to assign values to wealth_label based on quartiles\n",
    "def assign_wealth_label_quartiles(x):\n",
    "    if x <= quartiles.iloc[2]:  # Combine Low and Medium Income\n",
    "        return 'Low/Medium Income (Q1: {:.1f} to Q3: {:.1f} K €)'.format(round(quartiles.iloc[0], 1), round(quartiles.iloc[2], 1))\n",
    "    elif quartiles.iloc[2] < x <= quartiles.iloc[3]:\n",
    "        return 'High Income (Q3: {:.1f} to Q4: {:.1f} K €)'.format(round(quartiles.iloc[2], 1), round(quartiles.iloc[3], 1))\n",
    "    else:\n",
    "        return 'Very High Income (Q4: >{:.1f} K €)'.format(round(quartiles.iloc[3], 1))\n",
    "\n",
    "# Create the new column \"wealth_label_quartiles\" based on modified quartiles\n",
    "average_income_by_county['wealth_label_quartiles'] = average_income_by_county['Average net income per person (K €)'].apply(assign_wealth_label_quartiles)\n",
    "\n",
    "# Display the new column\n",
    "average_income_by_county['wealth_label_quartiles']\n",
    "\n",
    "plt.hist(average_income_by_county['Average net income per person (K €)'])"
   ]
  },
  {
   "cell_type": "code",
   "execution_count": null,
   "id": "944210bc-855c-4ee7-9c2e-36d5e415344c",
   "metadata": {},
   "outputs": [],
   "source": [
    "# Load GeoJSON file\n",
    "map_catalonia='county_map.geojson'\n",
    "counties = gpd.read_file(data_dir + map_catalonia)\n",
    "# Rename column of interest and sort data by the latter\n",
    "counties.rename(columns={'nomcomar': 'County_name'}, inplace=True)\n",
    "counties_sorted=counties.sort_values(by='County_name')"
   ]
  },
  {
   "cell_type": "code",
   "execution_count": null,
   "id": "d690228f-2098-4a94-8bd0-9213edaffc06",
   "metadata": {},
   "outputs": [],
   "source": [
    "# Merge county map and income by county\n",
    "merged_data_county = counties_sorted.merge(average_income_by_county, on='County_name')"
   ]
  },
  {
   "cell_type": "code",
   "execution_count": null,
   "id": "76a89bc9-132c-424d-8621-ef129147ef86",
   "metadata": {},
   "outputs": [],
   "source": [
    "# Plot the election results on a map of Catalonian counties\n",
    "\n",
    "fig = px.choropleth_mapbox(\n",
    "    merged_data_county,\n",
    "    geojson=merged_data_county.geometry,\n",
    "    locations=merged_data_county.index,\n",
    "    color='Average net income per person (K €)',  # Change to the column you want to visualize\n",
    "    hover_name='County_name',\n",
    "    mapbox_style=\"carto-positron\",\n",
    "    center={\"lat\": 41.8781, \"lon\": 1.7834},  # Center of Catalonia\n",
    "    zoom=7,\n",
    "    color_continuous_scale=\"sunset\",\n",
    "    title='Average net income per person by county'\n",
    ")\n",
    "\n",
    "fig.update_layout(height=600, width=800)\n",
    "fig.update_geos(fitbounds=\"locations\", visible=False)\n",
    "\n",
    "fig.show()"
   ]
  },
  {
   "cell_type": "code",
   "execution_count": null,
   "id": "d730ab76-ba6a-4a4c-98c5-04795c6a4a97",
   "metadata": {},
   "outputs": [],
   "source": [
    "# Plot the election results on a map of Catalonian counties\n",
    "\n",
    "fig = px.choropleth_mapbox(\n",
    "    merged_data_county,\n",
    "    geojson=merged_data_county.geometry,\n",
    "    locations=merged_data_county.index,\n",
    "    color='wealth_label_quartiles',  # Change to the column you want to visualize\n",
    "    hover_name='County_name',\n",
    "    mapbox_style=\"carto-positron\",\n",
    "    center={\"lat\": 41.8781, \"lon\": 1.7834},  # Center of Catalonia\n",
    "    zoom=7,\n",
    "    color_discrete_map={'Low/Medium Income (Q1: 10.3 to Q3: 13.5 K €)': 'lightgreen', 'High Income (Q3: 13.5 to Q4: 14.1 K €)': 'green', 'Very High Income (Q4: >14.1 K €)': 'darkgreen'}, \n",
    "    title='Average net income per person by county'\n",
    ")\n",
    "\n",
    "fig.update_layout(height=600, width=800)\n",
    "fig.update_geos(fitbounds=\"locations\", visible=False)\n",
    "\n",
    "fig.show()"
   ]
  },
  {
   "cell_type": "code",
   "execution_count": null,
   "id": "83ca9e1c-e2be-4e52-8152-510dc9d8208e",
   "metadata": {},
   "outputs": [],
   "source": [
    "# Load election data by county\n",
    "elections_county = pd.read_csv(deriv_dir + \"election_results_county.csv\")\n",
    "\n",
    "# Divide all votes columns by the 'Electoral census'\n",
    "votes_columns = ['ERC_votes', 'PSC_votes', 'ECP_votes', 'JUNTS_votes', 'PP_votes', 'PACMA_votes', 'MASPAIS_votes',\n",
    "                  'RECORTES0_votes', 'IFEM_votes', 'PUM+J_votes', 'PCTC_votes', 'PCPC_votes', 'IZQP_votes']\n",
    "\n",
    "# Iterate over each votes column and divide by 'Electoral census'\n",
    "for column in votes_columns:\n",
    "    elections_county[column] = elections_county[column] / elections_county['Electoral census']\n",
    "\n",
    "# Display the updated DataFrame\n",
    "elections_county"
   ]
  },
  {
   "cell_type": "code",
   "execution_count": null,
   "id": "4b7732ec-9b9a-414b-8489-3042aa1dbf47",
   "metadata": {},
   "outputs": [],
   "source": [
    "# Merge the DataFrames based on 'County'\n",
    "merged_df = pd.merge(elections_county, average_income_by_county, on='County_name', how='left')\n",
    "\n",
    "# Check the correlation between 'winner' and 'Average net income per person (K €)'\n",
    "correlation = merged_df['winner'].astype('category').cat.codes.corr(merged_df['Average net income per person (K €)'])\n",
    "\n",
    "# Display the correlation\n",
    "print(\"Correlation between winner and Average net income per person (K €):\", correlation)\n",
    "\n",
    "# Plot a boxplot based on 'winner'\n",
    "plt.figure(figsize=(12, 8))\n",
    "sns.boxplot(x='winner', y='Average net income per person (K €)', data=merged_df)\n",
    "plt.title('Boxplot of Average net income per person (K €) by Winner')\n",
    "plt.show()"
   ]
  },
  {
   "cell_type": "code",
   "execution_count": null,
   "id": "ca49eefe-fc7f-4e99-b498-3a89f9656faa",
   "metadata": {},
   "outputs": [],
   "source": [
    "# Check the correlation between 'winner' and 'Average net income per person (K €)'\n",
    "correlation_junts_votes = merged_df['JUNTS_votes'].corr(merged_df['Average net income per person (K €)'])\n",
    "correlation_psc_votes = merged_df['PSC_votes'].corr(merged_df['Average net income per person (K €)'])\n",
    "correlation_erc_votes = merged_df['ERC_votes'].corr(merged_df['Average net income per person (K €)'])\n",
    "\n",
    "# Display the correlation\n",
    "print(\"Correlation between JUNTS votes and Average net income per person (K €):\", correlation_junts_votes)\n",
    "print(\"Correlation between PSC votes and Average net income per person (K €):\", correlation_psc_votes)\n",
    "print(\"Correlation between ERC votes and Average net income per person (K €):\", correlation_erc_votes)\n",
    "\n",
    "# Scatter plot\n",
    "plt.figure(figsize=(10, 6))\n",
    "plt.scatter(merged_df['JUNTS_votes'], merged_df['Average net income per person (K €)'], alpha=0.5)\n",
    "plt.title('JUNTS_votes vs Average net income per person (K €)')\n",
    "plt.xlabel('log(JUNTS_votes)')\n",
    "plt.xscale('log')\n",
    "plt.ylabel('Average net income per person (K €)')\n",
    "plt.show()"
   ]
  },
  {
   "cell_type": "code",
   "execution_count": null,
   "id": "e4ce404c-1813-4561-aa7f-62530d1dc33e",
   "metadata": {},
   "outputs": [],
   "source": [
    "# Load the province map\n",
    "map_catalonia='province_map.geojson'\n",
    "provinces = gpd.read_file(data_dir + map_catalonia)\n",
    "# Rename column of interest and sort data by the latter\n",
    "provinces.rename(columns={'nomprov': 'Province_name'}, inplace=True)\n",
    "provinces_sorted=provinces.sort_values(by='Province_name')\n"
   ]
  },
  {
   "cell_type": "code",
   "execution_count": null,
   "id": "e1bfb440-3f53-4b45-b37a-fb47f125a1bd",
   "metadata": {},
   "outputs": [],
   "source": [
    "# Group by 'Province_name' and calculate the average 'Average net income per person (K €)'\n",
    "average_income_by_province = result_df.groupby('Province_name')['Average net income per person (K €)'].mean().reset_index()"
   ]
  },
  {
   "cell_type": "code",
   "execution_count": null,
   "id": "9df08567-8bfd-4ee5-b430-8ba6a92fb39a",
   "metadata": {},
   "outputs": [],
   "source": [
    "# Merge province map and income by province\n",
    "merged_data_prov = provinces_sorted.merge(average_income_by_province, on='Province_name')"
   ]
  },
  {
   "cell_type": "code",
   "execution_count": null,
   "id": "bbfb710d-9a15-4364-b163-d0d2e8293e63",
   "metadata": {},
   "outputs": [],
   "source": [
    "# Plot the election results on a map of Catalonian provinces\n",
    "fig = px.choropleth_mapbox(\n",
    "    merged_data_prov,\n",
    "    geojson=merged_data_prov.geometry,\n",
    "    locations=merged_data_prov.index,\n",
    "    color='Average net income per person (K €)',  # Change to the column you want to visualize\n",
    "    hover_name='Province_name',\n",
    "    mapbox_style=\"carto-positron\",\n",
    "    center={\"lat\": 41.8781, \"lon\": 1.7834},  # Center of Catalonia\n",
    "    zoom=7,\n",
    "    color_continuous_scale=\"sunset\",\n",
    "    title='Average net income per person by province'\n",
    ")\n",
    "fig.update_layout(height=600, width=800)\n",
    "fig.update_geos(fitbounds=\"locations\", visible=False)\n",
    "fig.show()"
   ]
  },
  {
   "cell_type": "code",
   "execution_count": null,
   "id": "b724453e-f499-4afb-a4d7-566fe50ab95f",
   "metadata": {},
   "outputs": [],
   "source": [
    "# Load election data by province\n",
    "elections_province = pd.read_csv(deriv_dir + \"election_results_province.csv\")"
   ]
  },
  {
   "cell_type": "code",
   "execution_count": null,
   "id": "204c2cd3-8f69-48e7-9686-f757d5403f3e",
   "metadata": {},
   "outputs": [],
   "source": [
    "# Merge the DataFrames based on 'County'\n",
    "merged_df = pd.merge(elections_province, average_income_by_province, on='Province_name', how='left')\n",
    "\n",
    "# Check the correlation between 'winner' and 'Average net income per person (K €)'\n",
    "correlation = merged_df['winner'].astype('category').cat.codes.corr(merged_df['Average net income per person (K €)'])\n",
    "\n",
    "# Display the correlation\n",
    "print(\"Correlation between winner and Average net income per person (K €):\", correlation)\n",
    "\n",
    "# Plot a boxplot based on 'winner'\n",
    "plt.figure(figsize=(12, 8))\n",
    "sns.boxplot(x='winner', y='Average net income per person (K €)', data=merged_df)\n",
    "plt.title('Boxplot of Average net income per person (K €) by Winner')\n",
    "plt.show()"
   ]
  },
  {
   "cell_type": "code",
   "execution_count": null,
   "id": "6b72ae89-746e-4617-86fe-982bfecaabc1",
   "metadata": {},
   "outputs": [],
   "source": [
    "# Check the correlation between 'winner' and 'Average net income per person (K €)'\n",
    "correlation_junts_votes = merged_df['JUNTS_votes'].corr(merged_df['Average net income per person (K €)'])\n",
    "correlation_psc_votes = merged_df['PSC_votes'].corr(merged_df['Average net income per person (K €)'])\n",
    "correlation_erc_votes = merged_df['ERC_votes'].corr(merged_df['Average net income per person (K €)'])\n",
    "\n",
    "# Display the correlation\n",
    "print(\"Correlation between JUNTS votes and Average net income per person (K €):\", correlation_junts_votes)\n",
    "print(\"Correlation between PSC votes and Average net income per person (K €):\", correlation_psc_votes)\n",
    "print(\"Correlation between ERC votes and Average net income per person (K €):\", correlation_erc_votes)\n",
    "\n",
    "# Scatter plot\n",
    "plt.figure(figsize=(10, 6))\n",
    "plt.scatter(merged_df['JUNTS_votes'], merged_df['Average net income per person (K €)'], alpha=0.5)\n",
    "plt.title('JUNTS_votes vs Average net income per person (K €)')\n",
    "plt.xlabel('log(JUNTS_votes)')\n",
    "plt.ylabel('Average net income per person (K €)')\n",
    "plt.xscale('log')\n",
    "plt.show()"
   ]
  }
 ],
 "metadata": {
  "kernelspec": {
   "display_name": "Python 3 (ipykernel)",
   "language": "python",
   "name": "python3"
  },
  "language_info": {
   "codemirror_mode": {
    "name": "ipython",
    "version": 3
   },
   "file_extension": ".py",
   "mimetype": "text/x-python",
   "name": "python",
   "nbconvert_exporter": "python",
   "pygments_lexer": "ipython3",
   "version": "3.8.10"
  }
 },
 "nbformat": 4,
 "nbformat_minor": 5
}
