{
 "cells": [
  {
   "cell_type": "code",
   "execution_count": null,
   "id": "6244b2c0-8d85-4e12-8c6c-7aa193ffc1b5",
   "metadata": {},
   "outputs": [],
   "source": [
    "import geopandas as gpd\n",
    "import pandas as pd\n",
    "import plotly.express as px\n",
    "\n",
    "# Load election data\n",
    "data_dir = \"../data/\"\n",
    "income = pd.read_csv(data_dir + \"income_by_municipality.csv\", sep=',')\n",
    "income"
   ]
  },
  {
   "cell_type": "code",
   "execution_count": null,
   "id": "7ba0986d-9e91-4dfa-be43-434607780e2b",
   "metadata": {},
   "outputs": [],
   "source": [
    "# Convert the 'Total' column to numeric using .loc\n",
    "income.loc[:, 'Total'] = income['Total'].apply(pd.to_numeric, errors='coerce')\n",
    "income"
   ]
  },
  {
   "cell_type": "code",
   "execution_count": null,
   "id": "74c121f1-1543-475f-8e3f-93223d540ffe",
   "metadata": {},
   "outputs": [],
   "source": []
  },
  {
   "cell_type": "code",
   "execution_count": null,
   "id": "bb4a676e-b5db-4a1f-9e00-ffb2c19cd215",
   "metadata": {},
   "outputs": [],
   "source": [
    "income_municipality = income.groupby('Municipalities')['Total'].mean().reset_index()\n",
    "income_municipality"
   ]
  },
  {
   "cell_type": "code",
   "execution_count": null,
   "id": "b0d05806-0451-4d73-8a28-f39e60a6168a",
   "metadata": {},
   "outputs": [],
   "source": [
    "# Load GeoJSON file\n",
    "map_catalonia='municipality_map.geojson'\n",
    "geo_data = gpd.read_file(data_dir + map_catalonia)"
   ]
  },
  {
   "cell_type": "code",
   "execution_count": null,
   "id": "3dc26d0b-a2df-4640-8fc8-a8732041e079",
   "metadata": {},
   "outputs": [],
   "source": [
    "# Translate column used to merge datasets and sort dataset based on this\n",
    "geo_data.rename(columns={'nom_muni': 'Municipalities'}, inplace=True)\n",
    "geo_data=geo_data.sort_values(by='Municipalities')"
   ]
  },
  {
   "cell_type": "code",
   "execution_count": null,
   "id": "067ddd8e-84ac-42e6-a659-7a1a5527108e",
   "metadata": {},
   "outputs": [],
   "source": [
    "# Merge municipalities map and income by municipality\n",
    "merged_data = geo_data.merge(income_municipality, on='Municipalities')\n",
    "merged_data = merged_data.rename(columns={'Total': 'Average income per household (€)'})\n",
    "merged_data"
   ]
  },
  {
   "cell_type": "code",
   "execution_count": null,
   "id": "9d9a51ff-42c1-464b-8883-570bf0d9aa8c",
   "metadata": {},
   "outputs": [],
   "source": [
    "# Plot the average income on a map of Catalonian municipalities\n",
    "\n",
    "fig = px.choropleth_mapbox(\n",
    "    merged_data,\n",
    "    geojson=merged_data.geometry,\n",
    "    locations=merged_data.index,\n",
    "    color='Average income per household (€)',  # Change to the column you want to visualize\n",
    "    hover_name='Municipalities',\n",
    "    mapbox_style=\"carto-positron\",\n",
    "    center={\"lat\": 41.8781, \"lon\": 1.7834},  # Center of Catalonia\n",
    "    zoom=7,\n",
    "    title='Average income by municipality'\n",
    ")\n",
    "fig.update_layout(height=600, width=800)\n",
    "fig.update_geos(fitbounds=\"locations\", visible=False)\n",
    "\n",
    "fig.show()"
   ]
  },
  {
   "cell_type": "code",
   "execution_count": null,
   "id": "b4cec712-b96b-44d7-941f-ba9ec26b6e26",
   "metadata": {},
   "outputs": [],
   "source": [
    "# Assuming you have loaded both datasets into dataframes\n",
    "munic_county_prov_inh = pd.read_csv(data_dir + \"municipality_county_province_cat.csv\")\n",
    "\n",
    "# Merge the two datasets on the 'Municipalities' column\n",
    "result_df = pd.merge(income_municipality, munic_county_prov_inh[['Municipality_name', 'County_name', 'Province_name']], left_on='Municipalities', right_on='Municipality_name', how='left')\n",
    "\n",
    "# Drop the duplicate 'Municipality_name' column\n",
    "result_df = result_df.drop(columns='Municipality_name')\n",
    "\n",
    "# Display the result\n",
    "print(result_df)\n"
   ]
  },
  {
   "cell_type": "code",
   "execution_count": null,
   "id": "14538c97-c850-4f74-a804-6eea32675ce8",
   "metadata": {},
   "outputs": [],
   "source": [
    "# Group by 'County_name' and calculate the average 'Total'\n",
    "average_income_by_county = result_df.groupby('County_name')['Total'].mean().reset_index()\n",
    "\n",
    "# Display the result\n",
    "print(average_income_by_county)\n"
   ]
  },
  {
   "cell_type": "code",
   "execution_count": null,
   "id": "944210bc-855c-4ee7-9c2e-36d5e415344c",
   "metadata": {},
   "outputs": [],
   "source": [
    "# Load GeoJSON file\n",
    "map_catalonia='county_map.geojson'\n",
    "geo_data = gpd.read_file(data_dir + map_catalonia)\n",
    "# Rename column of interest and sort data by the latter\n",
    "geo_data.rename(columns={'nomcomar': 'County_name'}, inplace=True)\n",
    "geo_data_sorted=geo_data.sort_values(by='County_name')"
   ]
  },
  {
   "cell_type": "code",
   "execution_count": null,
   "id": "d690228f-2098-4a94-8bd0-9213edaffc06",
   "metadata": {},
   "outputs": [],
   "source": [
    "# Merge county map and votes by county\n",
    "merged_data = geo_data_sorted.merge(average_income_by_county, on='County_name')\n",
    "merged_data = merged_data.rename(columns={'Total': 'Average income per household (€)'})\n",
    "\n",
    "merged_data"
   ]
  },
  {
   "cell_type": "code",
   "execution_count": null,
   "id": "76a89bc9-132c-424d-8621-ef129147ef86",
   "metadata": {},
   "outputs": [],
   "source": [
    "# Plot the election results on a map of Catalonian counties\n",
    "\n",
    "fig = px.choropleth_mapbox(\n",
    "    merged_data,\n",
    "    geojson=merged_data.geometry,\n",
    "    locations=merged_data.index,\n",
    "    color='Average income per household (€)',  # Change to the column you want to visualize\n",
    "    hover_name='County_name',\n",
    "    mapbox_style=\"carto-positron\",\n",
    "    center={\"lat\": 41.8781, \"lon\": 1.7834},  # Center of Catalonia\n",
    "    zoom=7,\n",
    "    color_discrete_sequence=['red', 'gold','seagreen'],\n",
    "    title='Average income per household by county'\n",
    ")\n",
    "\n",
    "fig.update_layout(height=600, width=800)\n",
    "fig.update_geos(fitbounds=\"locations\", visible=False)\n",
    "\n",
    "fig.show()"
   ]
  },
  {
   "cell_type": "code",
   "execution_count": null,
   "id": "e4ce404c-1813-4561-aa7f-62530d1dc33e",
   "metadata": {},
   "outputs": [],
   "source": [
    "# Load the province map\n",
    "map_catalonia='province_map.geojson'\n",
    "geo_data = gpd.read_file(data_dir + map_catalonia)\n",
    "# Rename column of interest and sort data by the latter\n",
    "geo_data.rename(columns={'nomprov': 'Province_name'}, inplace=True)\n",
    "geo_data_sorted=geo_data.sort_values(by='Province_name')\n"
   ]
  },
  {
   "cell_type": "code",
   "execution_count": null,
   "id": "e1bfb440-3f53-4b45-b37a-fb47f125a1bd",
   "metadata": {},
   "outputs": [],
   "source": [
    "# Group by 'Province_name' and calculate the average 'Total'\n",
    "average_income_by_province = result_df.groupby('Province_name')['Total'].mean().reset_index()\n",
    "\n",
    "# Display the result\n",
    "print(average_income_by_province)"
   ]
  },
  {
   "cell_type": "code",
   "execution_count": null,
   "id": "9df08567-8bfd-4ee5-b430-8ba6a92fb39a",
   "metadata": {},
   "outputs": [],
   "source": [
    "# Merge province map and votes by province\n",
    "merged_data = geo_data_sorted.merge(average_income_by_province, on='Province_name')\n",
    "merged_data = merged_data.rename(columns={'Total': 'Average income per household (€)'})\n",
    "\n",
    "merged_data"
   ]
  },
  {
   "cell_type": "code",
   "execution_count": null,
   "id": "bbfb710d-9a15-4364-b163-d0d2e8293e63",
   "metadata": {},
   "outputs": [],
   "source": [
    "# Plot the election results on a map of Catalonian provinces\n",
    "#import kaleido\n",
    "fig = px.choropleth_mapbox(\n",
    "    merged_data,\n",
    "    geojson=merged_data.geometry,\n",
    "    locations=merged_data.index,\n",
    "    color='Average income per household (€)',  # Change to the column you want to visualize\n",
    "    hover_name='Province_name',\n",
    "    mapbox_style=\"carto-positron\",\n",
    "    center={\"lat\": 41.8781, \"lon\": 1.7834},  # Center of Catalonia\n",
    "    zoom=7,\n",
    "    color_discrete_sequence=['red', 'gold'],\n",
    "    title='Average income per household by province'\n",
    ")\n",
    "fig.update_layout(height=600, width=800)\n",
    "fig.update_geos(fitbounds=\"locations\", visible=False)\n",
    "fig.show()"
   ]
  }
 ],
 "metadata": {
  "kernelspec": {
   "display_name": "Python 3 (ipykernel)",
   "language": "python",
   "name": "python3"
  },
  "language_info": {
   "codemirror_mode": {
    "name": "ipython",
    "version": 3
   },
   "file_extension": ".py",
   "mimetype": "text/x-python",
   "name": "python",
   "nbconvert_exporter": "python",
   "pygments_lexer": "ipython3",
   "version": "3.8.10"
  }
 },
 "nbformat": 4,
 "nbformat_minor": 5
}
