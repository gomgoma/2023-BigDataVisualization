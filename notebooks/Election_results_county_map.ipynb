{
 "cells": [
  {
   "cell_type": "code",
   "execution_count": null,
   "id": "83a4fbd6-54ff-4188-92a2-c76b3e1bdb22",
   "metadata": {},
   "outputs": [],
   "source": [
    "import geopandas as gpd\n",
    "import pandas as pd\n",
    "import plotly.express as px\n",
    "\n",
    "# Load election data\n",
    "data_dir = \"../data/\"\n",
    "election_data = pd.read_csv(data_dir + \"G20192-Columnes-ME-EN.csv\", sep=';')\n",
    "\n",
    "# Load GeoJSON file\n",
    "map_catalonia='county_map.geojson'\n",
    "geo_data = gpd.read_file(data_dir + map_catalonia)"
   ]
  },
  {
   "cell_type": "code",
   "execution_count": null,
   "id": "9080a7f2-143c-4149-a5a3-8ae57028d50a",
   "metadata": {},
   "outputs": [],
   "source": [
    "# Rename column of interest and sort data by the latter\n",
    "geo_data.rename(columns={'nomcomar': 'County_name'}, inplace=True)\n",
    "geo_data_sorted=geo_data.sort_values(by='County_name')"
   ]
  },
  {
   "cell_type": "code",
   "execution_count": null,
   "id": "7c01dd32-d833-496b-8aff-bb003809b1e4",
   "metadata": {},
   "outputs": [],
   "source": [
    "# Sum up votes for each county\n",
    "votes_by_county = election_data.iloc[:, 21:].groupby(election_data['County_name']).sum()"
   ]
  },
  {
   "cell_type": "code",
   "execution_count": null,
   "id": "f75664f4-f87a-4e28-bb33-db09f237c5e0",
   "metadata": {},
   "outputs": [],
   "source": [
    "# Extract electoral census and add it to votes_by_county\n",
    "electoral_census_by_county = list(election_data.iloc[:, 12].groupby(election_data['County_name']).sum())\n",
    "votes_by_county['Electoral census'] = electoral_census_by_county "
   ]
  },
  {
   "cell_type": "code",
   "execution_count": null,
   "id": "fdd85554-6f7d-45e3-9935-bd16a2795c8e",
   "metadata": {},
   "outputs": [],
   "source": [
    "# Find the winner party for each county\n",
    "winner_by_county=votes_by_county.iloc[:,:-2].idxmax(axis=1)\n",
    "list_winners=list(winner_by_county)\n",
    "# Add column with winner party\n",
    "votes_by_county['winner']=list_winners\n",
    "# Sort by county\n",
    "votes_by_county.sort_values(by='County_name')\n"
   ]
  },
  {
   "cell_type": "code",
   "execution_count": null,
   "id": "25aac5bb-84b1-41fe-a130-31423d622868",
   "metadata": {},
   "outputs": [],
   "source": [
    "# Merge county map and votes by county\n",
    "merged_data = geo_data_sorted.merge(votes_by_county, on='County_name')\n",
    "#merged_data.to_csv('election_results_county.csv', index=False)\n",
    "merged_data"
   ]
  },
  {
   "cell_type": "code",
   "execution_count": null,
   "id": "a5b5d1d6-5d17-43c6-ac4c-09fcaef6ce06",
   "metadata": {},
   "outputs": [],
   "source": [
    "# Plot the election results on a map of Catalonian counties\n",
    "\n",
    "fig = px.choropleth_mapbox(\n",
    "    merged_data,\n",
    "    geojson=merged_data.geometry,\n",
    "    locations=merged_data.index,\n",
    "    color='winner',  # Change to the column you want to visualize\n",
    "    hover_name='County_name',\n",
    "    mapbox_style=\"carto-positron\",\n",
    "    center={\"lat\": 41.8781, \"lon\": 1.7834},  # Center of Catalonia\n",
    "    zoom=7,\n",
    "    color_discrete_sequence=[\"goldenrod\", \"darkred\", \"lightgreen\"],\n",
    "    title='Election results by county'\n",
    ")\n",
    "\n",
    "fig.update_layout(height=600, width=800)\n",
    "fig.update_geos(fitbounds=\"locations\", visible=False)\n",
    "\n",
    "fig.show()"
   ]
  }
 ],
 "metadata": {
  "kernelspec": {
   "display_name": "Python 3 (ipykernel)",
   "language": "python",
   "name": "python3"
  },
  "language_info": {
   "codemirror_mode": {
    "name": "ipython",
    "version": 3
   },
   "file_extension": ".py",
   "mimetype": "text/x-python",
   "name": "python",
   "nbconvert_exporter": "python",
   "pygments_lexer": "ipython3",
   "version": "3.8.10"
  }
 },
 "nbformat": 4,
 "nbformat_minor": 5
}
