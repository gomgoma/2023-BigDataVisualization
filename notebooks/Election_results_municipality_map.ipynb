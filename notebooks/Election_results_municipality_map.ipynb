{
 "cells": [
  {
   "cell_type": "code",
   "execution_count": null,
   "id": "7afc081b-7f6e-4f3b-b587-312234927586",
   "metadata": {},
   "outputs": [],
   "source": [
    "import geopandas as gpd\n",
    "import pandas as pd\n",
    "\n",
    "# Load election data\n",
    "data_dir = \"../data/\"\n",
    "election_data = pd.read_csv(data_dir + \"G20192-Columnes-ME.csv\", sep=';')\n",
    "\n",
    "# Load GeoJSON file\n",
    "map_catalonia='Límits administratius municipals de Catalunya.geojson'\n",
    "geo_data = gpd.read_file(data_dir + map_catalonia)\n",
    "\n",
    "# Translate\n",
    "election_data.rename(columns={'Nom Municipi': 'municipality'}, inplace=True)\n"
   ]
  },
  {
   "cell_type": "code",
   "execution_count": null,
   "id": "46eec0c5-5972-40bd-be39-2eb9cfad36a4",
   "metadata": {},
   "outputs": [],
   "source": [
    "geo_data.rename(columns={'nom_muni': 'municipality'}, inplace=True)\n",
    "geo_data_sorted=geo_data.sort_values(by='municipality')\n"
   ]
  },
  {
   "cell_type": "code",
   "execution_count": null,
   "id": "ae597dab-376c-4f3f-93c2-066dcbecb88e",
   "metadata": {},
   "outputs": [],
   "source": [
    "votes_by_municipality = election_data.iloc[:, 21:].groupby(by=election_data[\"municipality\"]).sum()\n",
    "votes_by_municipality.reset_index()\n",
    "votes_by_municipality"
   ]
  },
  {
   "cell_type": "code",
   "execution_count": null,
   "id": "89542b36-ad56-4ff4-90de-d1ff389c4e5c",
   "metadata": {},
   "outputs": [],
   "source": [
    "winner_by_municipality=votes_by_municipality.idxmax(axis=1)\n",
    "winner_by_municipality.reset_index()\n",
    "list_winners=list(winner_by_municipality)\n",
    "votes_by_municipality['winner']=list_winners\n",
    "votes_by_municipality\n",
    "votes_by_municipality.sort_values(by='municipality')"
   ]
  },
  {
   "cell_type": "code",
   "execution_count": null,
   "id": "ec7b0649-3808-4bc2-b26a-b42fbceace8f",
   "metadata": {},
   "outputs": [],
   "source": [
    "merged_data = geo_data_sorted.merge(votes_by_municipality, on='municipality')\n",
    "merged_data"
   ]
  },
  {
   "cell_type": "code",
   "execution_count": null,
   "id": "c9030e25-e070-4ed4-818c-5ef719357a0e",
   "metadata": {},
   "outputs": [],
   "source": [
    "import plotly.express as px\n",
    "\n",
    "fig = px.choropleth_mapbox(\n",
    "    merged_data,\n",
    "    geojson=merged_data.geometry,\n",
    "    locations=merged_data.index,\n",
    "    color='winner',  # Change to the column you want to visualize\n",
    "    hover_name='municipality',\n",
    "    mapbox_style=\"carto-positron\",\n",
    "    center={\"lat\": 41.8781, \"lon\": 1.7834},  # Center of Catalonia\n",
    "    zoom=7\n",
    ")\n",
    "\n",
    "fig.update_geos(fitbounds=\"locations\", visible=False)\n",
    "\n",
    "fig.show()"
   ]
  }
 ],
 "metadata": {
  "kernelspec": {
   "display_name": "Python 3 (ipykernel)",
   "language": "python",
   "name": "python3"
  },
  "language_info": {
   "codemirror_mode": {
    "name": "ipython",
    "version": 3
   },
   "file_extension": ".py",
   "mimetype": "text/x-python",
   "name": "python",
   "nbconvert_exporter": "python",
   "pygments_lexer": "ipython3",
   "version": "3.8.10"
  }
 },
 "nbformat": 4,
 "nbformat_minor": 5
}
