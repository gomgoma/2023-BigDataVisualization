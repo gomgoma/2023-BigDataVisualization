{
 "cells": [
  {
   "cell_type": "code",
   "execution_count": null,
   "id": "39d159c4-5c0f-4a84-a2f3-4664816de178",
   "metadata": {},
   "outputs": [],
   "source": [
    "import geopandas as gpd\n",
    "import pandas as pd\n",
    "import plotly.express as px\n",
    "\n",
    "# Load election data\n",
    "data_dir = \"../data/\"\n",
    "election_data = pd.read_csv(data_dir + \"G20192-Columnes-ME-EN.csv\", sep=';')\n",
    "\n",
    "# Load GeoJSON file\n",
    "map_catalonia='municipality_map.geojson'\n",
    "geo_data = gpd.read_file(data_dir + map_catalonia)\n",
    "geo_data"
   ]
  },
  {
   "cell_type": "code",
   "execution_count": null,
   "id": "77e27a54-8df2-4214-82a4-1bc4e1be306c",
   "metadata": {},
   "outputs": [],
   "source": [
    "# Translate column used to merge datasets based on this\n",
    "geo_data.rename(columns={'nom_muni': 'Municipality_name'}, inplace=True)\n",
    "geo_data.rename(columns={'codiine': 'Municipality_code'}, inplace=True)\n",
    "# Fix problem with missing 0 at the beginning of postcode\n",
    "election_data['Municipality_code'] = election_data['Municipality_code'].astype(str).apply(lambda x: '0' + x if x.isdigit() and len(x) == 4 else x)\n",
    "\n",
    "election_data['Municipality_code']"
   ]
  },
  {
   "cell_type": "code",
   "execution_count": null,
   "id": "cbd17a9d-bc9e-422a-9938-a68f0e9f75ba",
   "metadata": {},
   "outputs": [],
   "source": [
    "# Sum up the votes for each municipality\n",
    "votes_by_municipality = election_data.iloc[:, 21:].groupby(by=election_data['Municipality_code']).sum()\n",
    "votes_by_municipality.reset_index()\n",
    "\n",
    "votes_by_municipality\n"
   ]
  },
  {
   "cell_type": "code",
   "execution_count": null,
   "id": "1650d934-9736-4d4a-b6d3-746842c9dcbc",
   "metadata": {},
   "outputs": [],
   "source": [
    "# Find the winner party for each municipality\n",
    "winner_by_municipality=votes_by_municipality.idxmax(axis=1)\n",
    "winner_by_municipality.reset_index()\n",
    "list_winners=list(winner_by_municipality)\n",
    "# Add column with winner party\n",
    "votes_by_municipality['winner']=list_winners\n",
    "# Sort by municipality\n",
    "votes_by_municipality.sort_values(by='Municipality_code')\n",
    "votes_by_municipality"
   ]
  },
  {
   "cell_type": "code",
   "execution_count": null,
   "id": "e8f180b6-7bc2-40dd-b39b-c30c6d8d3ba3",
   "metadata": {},
   "outputs": [],
   "source": [
    "# Merge municipalities map and votes by municipality\n",
    "merged_data = geo_data.merge(votes_by_municipality, on='Municipality_code')\n",
    "#merged_data.to_csv('election_results_municipality.csv', index=False)"
   ]
  },
  {
   "cell_type": "code",
   "execution_count": null,
   "id": "c5142773-851b-41ec-9779-345ad1b6759e",
   "metadata": {},
   "outputs": [],
   "source": [
    "# Plot the election results on a map of Catalonian municipalities\n",
    "fig = px.choropleth_mapbox(\n",
    "    merged_data,\n",
    "    geojson=merged_data.geometry,\n",
    "    locations=merged_data.index,\n",
    "    color='winner',  # Change to the column you want to visualize\n",
    "    hover_name='Municipality_code',\n",
    "    mapbox_style=\"carto-positron\",\n",
    "    center={\"lat\": 41.8781, \"lon\": 1.7834},  # Center of Catalonia\n",
    "    zoom=7,\n",
    "    color_discrete_sequence=[\"goldenrod\",  \"lightgreen\", \"black\", \"darkred\", \"royalblue\",'purple'],\n",
    "    title='Election results by municipality'\n",
    ")\n",
    "fig.update_layout(height=600, width=800)\n",
    "fig.update_geos(fitbounds=\"locations\", visible=False)\n",
    "\n",
    "fig.show()"
   ]
  }
 ],
 "metadata": {
  "kernelspec": {
   "display_name": "Python 3 (ipykernel)",
   "language": "python",
   "name": "python3"
  },
  "language_info": {
   "codemirror_mode": {
    "name": "ipython",
    "version": 3
   },
   "file_extension": ".py",
   "mimetype": "text/x-python",
   "name": "python",
   "nbconvert_exporter": "python",
   "pygments_lexer": "ipython3",
   "version": "3.8.10"
  }
 },
 "nbformat": 4,
 "nbformat_minor": 5
}
